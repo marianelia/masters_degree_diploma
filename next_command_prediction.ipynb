{
  "cells": [
    {
      "cell_type": "markdown",
      "metadata": {
        "id": "z_vrTVAxKoj5"
      },
      "source": [
        "# Импорт необходимых библиотек и пакетов"
      ]
    },
    {
      "cell_type": "code",
      "execution_count": 3,
      "metadata": {
        "id": "y3hbdM6VKoj5"
      },
      "outputs": [],
      "source": [
        "import os\n",
        "import re\n",
        "import pickle\n",
        "import numpy as np\n",
        "import pandas as pd\n",
        "from tqdm.auto import tqdm\n",
        "\n",
        "import tensorflow as tf\n",
        "from tensorflow.keras.models import Sequential\n",
        "from tensorflow.keras.layers import Embedding, LSTM, Dense, Bidirectional\n",
        "from tensorflow.keras.optimizers import Adam\n",
        "from tensorflow.keras.preprocessing.text import Tokenizer\n",
        "from tensorflow.keras.preprocessing.sequence import pad_sequences"
      ]
    },
    {
      "cell_type": "markdown",
      "metadata": {
        "id": "TIcnJfosKoj6"
      },
      "source": [
        "# Получение исходных данных (логов) (*.zip архив с логами)\n",
        "\n"
      ]
    },
    {
      "cell_type": "code",
      "execution_count": 4,
      "metadata": {
        "colab": {
          "base_uri": "https://localhost:8080/",
          "height": 91
        },
        "id": "uoFw3fhiLGEc",
        "outputId": "7a588fc9-434a-4368-8a0d-39b79987cf29"
      },
      "outputs": [
        {
          "output_type": "display_data",
          "data": {
            "text/plain": [
              "<IPython.core.display.HTML object>"
            ],
            "text/html": [
              "\n",
              "     <input type=\"file\" id=\"files-bbac81ce-5b2b-49d3-8438-f019142967bd\" name=\"files[]\" multiple disabled\n",
              "        style=\"border:none\" />\n",
              "     <output id=\"result-bbac81ce-5b2b-49d3-8438-f019142967bd\">\n",
              "      Upload widget is only available when the cell has been executed in the\n",
              "      current browser session. Please rerun this cell to enable.\n",
              "      </output>\n",
              "      <script>// Copyright 2017 Google LLC\n",
              "//\n",
              "// Licensed under the Apache License, Version 2.0 (the \"License\");\n",
              "// you may not use this file except in compliance with the License.\n",
              "// You may obtain a copy of the License at\n",
              "//\n",
              "//      http://www.apache.org/licenses/LICENSE-2.0\n",
              "//\n",
              "// Unless required by applicable law or agreed to in writing, software\n",
              "// distributed under the License is distributed on an \"AS IS\" BASIS,\n",
              "// WITHOUT WARRANTIES OR CONDITIONS OF ANY KIND, either express or implied.\n",
              "// See the License for the specific language governing permissions and\n",
              "// limitations under the License.\n",
              "\n",
              "/**\n",
              " * @fileoverview Helpers for google.colab Python module.\n",
              " */\n",
              "(function(scope) {\n",
              "function span(text, styleAttributes = {}) {\n",
              "  const element = document.createElement('span');\n",
              "  element.textContent = text;\n",
              "  for (const key of Object.keys(styleAttributes)) {\n",
              "    element.style[key] = styleAttributes[key];\n",
              "  }\n",
              "  return element;\n",
              "}\n",
              "\n",
              "// Max number of bytes which will be uploaded at a time.\n",
              "const MAX_PAYLOAD_SIZE = 100 * 1024;\n",
              "\n",
              "function _uploadFiles(inputId, outputId) {\n",
              "  const steps = uploadFilesStep(inputId, outputId);\n",
              "  const outputElement = document.getElementById(outputId);\n",
              "  // Cache steps on the outputElement to make it available for the next call\n",
              "  // to uploadFilesContinue from Python.\n",
              "  outputElement.steps = steps;\n",
              "\n",
              "  return _uploadFilesContinue(outputId);\n",
              "}\n",
              "\n",
              "// This is roughly an async generator (not supported in the browser yet),\n",
              "// where there are multiple asynchronous steps and the Python side is going\n",
              "// to poll for completion of each step.\n",
              "// This uses a Promise to block the python side on completion of each step,\n",
              "// then passes the result of the previous step as the input to the next step.\n",
              "function _uploadFilesContinue(outputId) {\n",
              "  const outputElement = document.getElementById(outputId);\n",
              "  const steps = outputElement.steps;\n",
              "\n",
              "  const next = steps.next(outputElement.lastPromiseValue);\n",
              "  return Promise.resolve(next.value.promise).then((value) => {\n",
              "    // Cache the last promise value to make it available to the next\n",
              "    // step of the generator.\n",
              "    outputElement.lastPromiseValue = value;\n",
              "    return next.value.response;\n",
              "  });\n",
              "}\n",
              "\n",
              "/**\n",
              " * Generator function which is called between each async step of the upload\n",
              " * process.\n",
              " * @param {string} inputId Element ID of the input file picker element.\n",
              " * @param {string} outputId Element ID of the output display.\n",
              " * @return {!Iterable<!Object>} Iterable of next steps.\n",
              " */\n",
              "function* uploadFilesStep(inputId, outputId) {\n",
              "  const inputElement = document.getElementById(inputId);\n",
              "  inputElement.disabled = false;\n",
              "\n",
              "  const outputElement = document.getElementById(outputId);\n",
              "  outputElement.innerHTML = '';\n",
              "\n",
              "  const pickedPromise = new Promise((resolve) => {\n",
              "    inputElement.addEventListener('change', (e) => {\n",
              "      resolve(e.target.files);\n",
              "    });\n",
              "  });\n",
              "\n",
              "  const cancel = document.createElement('button');\n",
              "  inputElement.parentElement.appendChild(cancel);\n",
              "  cancel.textContent = 'Cancel upload';\n",
              "  const cancelPromise = new Promise((resolve) => {\n",
              "    cancel.onclick = () => {\n",
              "      resolve(null);\n",
              "    };\n",
              "  });\n",
              "\n",
              "  // Wait for the user to pick the files.\n",
              "  const files = yield {\n",
              "    promise: Promise.race([pickedPromise, cancelPromise]),\n",
              "    response: {\n",
              "      action: 'starting',\n",
              "    }\n",
              "  };\n",
              "\n",
              "  cancel.remove();\n",
              "\n",
              "  // Disable the input element since further picks are not allowed.\n",
              "  inputElement.disabled = true;\n",
              "\n",
              "  if (!files) {\n",
              "    return {\n",
              "      response: {\n",
              "        action: 'complete',\n",
              "      }\n",
              "    };\n",
              "  }\n",
              "\n",
              "  for (const file of files) {\n",
              "    const li = document.createElement('li');\n",
              "    li.append(span(file.name, {fontWeight: 'bold'}));\n",
              "    li.append(span(\n",
              "        `(${file.type || 'n/a'}) - ${file.size} bytes, ` +\n",
              "        `last modified: ${\n",
              "            file.lastModifiedDate ? file.lastModifiedDate.toLocaleDateString() :\n",
              "                                    'n/a'} - `));\n",
              "    const percent = span('0% done');\n",
              "    li.appendChild(percent);\n",
              "\n",
              "    outputElement.appendChild(li);\n",
              "\n",
              "    const fileDataPromise = new Promise((resolve) => {\n",
              "      const reader = new FileReader();\n",
              "      reader.onload = (e) => {\n",
              "        resolve(e.target.result);\n",
              "      };\n",
              "      reader.readAsArrayBuffer(file);\n",
              "    });\n",
              "    // Wait for the data to be ready.\n",
              "    let fileData = yield {\n",
              "      promise: fileDataPromise,\n",
              "      response: {\n",
              "        action: 'continue',\n",
              "      }\n",
              "    };\n",
              "\n",
              "    // Use a chunked sending to avoid message size limits. See b/62115660.\n",
              "    let position = 0;\n",
              "    do {\n",
              "      const length = Math.min(fileData.byteLength - position, MAX_PAYLOAD_SIZE);\n",
              "      const chunk = new Uint8Array(fileData, position, length);\n",
              "      position += length;\n",
              "\n",
              "      const base64 = btoa(String.fromCharCode.apply(null, chunk));\n",
              "      yield {\n",
              "        response: {\n",
              "          action: 'append',\n",
              "          file: file.name,\n",
              "          data: base64,\n",
              "        },\n",
              "      };\n",
              "\n",
              "      let percentDone = fileData.byteLength === 0 ?\n",
              "          100 :\n",
              "          Math.round((position / fileData.byteLength) * 100);\n",
              "      percent.textContent = `${percentDone}% done`;\n",
              "\n",
              "    } while (position < fileData.byteLength);\n",
              "  }\n",
              "\n",
              "  // All done.\n",
              "  yield {\n",
              "    response: {\n",
              "      action: 'complete',\n",
              "    }\n",
              "  };\n",
              "}\n",
              "\n",
              "scope.google = scope.google || {};\n",
              "scope.google.colab = scope.google.colab || {};\n",
              "scope.google.colab._files = {\n",
              "  _uploadFiles,\n",
              "  _uploadFilesContinue,\n",
              "};\n",
              "})(self);\n",
              "</script> "
            ]
          },
          "metadata": {}
        },
        {
          "output_type": "stream",
          "name": "stdout",
          "text": [
            "Saving _NanoData_LOGS_100_users_Platform.zip to _NanoData_LOGS_100_users_Platform.zip\n",
            "_NanoData_LOGS_100_users_Platform.zip\n"
          ]
        }
      ],
      "source": [
        "try:\n",
        "    from google.colab import files\n",
        "    IN_COLAB = True\n",
        "except:\n",
        "    IN_COLAB = False\n",
        "\n",
        "if IN_COLAB:\n",
        "  uploaded_files = files.upload()\n",
        "else:\n",
        "  uploaded_files = [\"c:\\_py_logs_module\\_py_logs_module\\InOut\\In\\_NanoData_LOGS_100_users_Platform.zip\"]\n",
        "uploaded_zip_path = None\n",
        "for key in uploaded_files:\n",
        "  uploaded_zip_path = key\n",
        "  break\n",
        "print(uploaded_zip_path)"
      ]
    },
    {
      "cell_type": "code",
      "execution_count": null,
      "metadata": {
        "colab": {
          "background_save": true
        },
        "id": "b2lKh7nT96Ko"
      },
      "outputs": [],
      "source": [
        "uploaded_files"
      ]
    },
    {
      "cell_type": "markdown",
      "metadata": {
        "id": "Ae5eAwAFhyqq"
      },
      "source": [
        "# Предварительная обработка корпуса текстов"
      ]
    },
    {
      "cell_type": "code",
      "execution_count": 6,
      "metadata": {
        "colab": {
          "base_uri": "https://localhost:8080/",
          "height": 137,
          "referenced_widgets": [
            "8b736882460f44dfa3cf3115f3ce333a",
            "c346c0a23270419186d4170097d9e03e",
            "7f91b01611874cb1a1555c2539447e8d",
            "8ddb830af76a4bd7bc76e5429512c806",
            "d19d4efcac444127bbe4cb7a867cff6b",
            "6136465eeb4e43ac860556677fc7b7c5",
            "43ee05076e6f4289ab9b9d2c887988a9",
            "92b0784655a249b9aa4e7bc87fbf9718",
            "918f1fef2bf34125851c717710e8546c",
            "9602ef93e2314feea88a5d3a4e4823d4",
            "56ef4fc215ae4e02a3cda1994ff648b0",
            "4080338b4c104feb9d458776fb2dd3a2",
            "a8ad1e0e30594df3b9949afa6a71cc7f",
            "12446b8f2cd54f17a6d4db810f3b6763",
            "0762137991094e65ab42c899502acb72",
            "972564eae19c4baf8f8a1406d4dc2f50",
            "e441c9b77cc344e5924e96aecdb5bcf9",
            "a939d107cd9a406db1b15ff380b75690",
            "21fcc8795e5541e489ec1edc8fd06d2e",
            "46f2e1beba16415b9d19220b552556c1",
            "69788cd3ffa8447f8c89dfceea375f18",
            "47bb6261ff134185bbdb9c7d21bd6503"
          ]
        },
        "id": "vMoj9dfRKoj6",
        "outputId": "039294c9-e07c-49bb-e977-5992a2db9cec"
      },
      "outputs": [
        {
          "output_type": "display_data",
          "data": {
            "text/plain": [
              "  0%|          | 0/370 [00:00<?, ?it/s]"
            ],
            "application/vnd.jupyter.widget-view+json": {
              "version_major": 2,
              "version_minor": 0,
              "model_id": "8b736882460f44dfa3cf3115f3ce333a"
            }
          },
          "metadata": {}
        },
        {
          "output_type": "display_data",
          "data": {
            "text/plain": [
              "  0%|          | 0/170 [00:00<?, ?it/s]"
            ],
            "application/vnd.jupyter.widget-view+json": {
              "version_major": 2,
              "version_minor": 0,
              "model_id": "4080338b4c104feb9d458776fb2dd3a2"
            }
          },
          "metadata": {}
        },
        {
          "output_type": "stream",
          "name": "stdout",
          "text": [
            "97\n",
            "['layout_control layout_control layout_control layout_control layout_control layout_control layout_control layout_control layout_control layout_control copywithbasepoint pasteblock simplepolyline simplepolyline toggleorto _stretch rectangle dist dist', 'normaaudit circle delete circle movecopy toggleorto toggleorto circle movecopy togglesnap toggleorto rotate move move move _stretch _stretch move move move move _stretch _stretch delete circle normaaudit layout_control layout_control plot layout_control plot layout_control plot layout_control plot layout_control plot layout_control plot toggleorto layout_control plot layout_control layout_control layout_control layout_control plot toggleosnapnext layout_control plot plot plot plot plot plot layout_control layout_control layout_control layout_control layout_control layout_control layout_control layout_control plot layout_control plot normaaudit', 'normaaudit line toggleorto toggleorto line line layout_control zoom zoom layout_control layout_control layout_control layout_control layout_control layout_control layout_control layout_control layout_control layout_control layout_control layout_control layout_control layout_control layout_control layout_control layout_control layout_control layout_control layout_control layout_control layout_control zoom zoom zoom layer layout_control layout_control layout_control normaaudit', 'circle arc simplepolyline layout_control layout_control savedocument line line saveasdocument line dropgeom cut line line cut line line line line line line line editundo layout_control line line copyclip cut line cut cut cut circle scale stretch line line layout_control savedocument layout_control line line editundo line line editundo _stretch _stretch _stretch _stretch _stretch editundo line cut line delete rmproxy delete line _stretch line line layout_control layout_control layout_control layout_control layout_control _stretch editundo line line note note editundo editundo editundo vcoffsetcmd line savedocument note editundo paste note note _stretch editundo _stretch _stretch _stretch note editundo editundo editundo editundo editundo editundo note note note editundo editundo editundo note note note note line line editundo line paste editundo editundo line line preferencescmd savedocument savedocument line editundo line paste line circle paste circle properties circle paste editundo setvar editundo circle editundo editundo circle editundo editundo circle circle paste circle circle editundo editundo circle editundo circle editundo delete circle savedocument savedocument saveasdocument layout_control saveasdocument saveasdocument arc arc cut circle line line line line line editundo line editundo line _stretch _stretch _stretch _stretch _stretch dropgeom line _stretch editundo _stretch _stretch _stretch _stretch _stretch _stretch _stretch _stretch _stretch _stretch _stretch _stretch _stretch _stretch _stretch _stretch _stretch _stretch _stretch line arc arcbystartcenterend _stretch arcbystartcenterend line savedocument arcbystartcenterend _stretch _stretch copyclip paste dropgeom cut arcbystartcenterend _stretch arcbystartcenterend arcbystartcenterend arcbystartcenterlength arcbystartcenterend arcbystartcenterend arcbystartcenterend arcbystartcenterend _stretch _stretch _stretch _stretch _stretch _stretch _stretch hatchcmd hatchedit line line line line arcbystartcenterend arcbystartcenterend arcbystartcenterlength arcbystartcenterlength _stretch _stretch properties _stretch properties savedocument saveasdocument layout_control params layout_control rectangle line rectangle editundo rectangle rectangle editundo editundo editundo rectangle rectangle _stretch rectangle _stretch editundo delete rectangle delete properties properties _stretch _stretch _stretch dropgeom editundo dropgeom dropgeom dedit dedit _stretch dedit _stretch editundo _stretch _stretch _stretch _stretch _stretch _stretch _stretch dedit line dedit dedit dedit dedit dedit dedit line properties _stretch _stretch _stretch line line line line line line _stretch properties _stretch properties properties _stretch line line line line line line line dropgeom dropgeom line line line properties properties copyclip paste editundo rotate rotate delete line _stretch _stretch _stretch _stretch _stretch _stretch _stretch properties _stretch properties _stretch properties _stretch properties _stretch _stretch line line line line line line line line line line line circle circle _stretch circle properties _stretch _stretch copyclip paste paste paste _stretch properties _stretch dropgeom editundo editundo line editundo line _stretch _stretch line _stretch properties _stretch dropgeom properties _stretch copyclip paste paste paste paste paste line line line editundo line line line line line properties editundo properties cut line line line line line line line editundo line line line line line line line line line line line line line line properties _stretch properties dropgeom properties _stretch line arc _stretch arc arc _stretch _stretch _stretch _stretch editundo line line line line line savedocument dropgeom _stretch editundo editundo _stretch _stretch _stretch dedit _stretch cut saveasdocument layout_control mtextcreate editundo editundo layout_control dtext dtext circle editundo circle editundo circle dtext arc copyclip paste line _stretch line line line line line line line properties properties properties properties dropgeom _stretch _stretch _stretch editundo delete line properties note delete note dedit properties dedit delete notep note notek note dedit dedit circle editundo circle paste editundo circle _stretch properties _stretch dtext dtext copyclip paste _stretch copyclip paste paste paste ddedit _stretch ddedit _stretch ddedit _stretch _stretch _stretch _stretch _stretch _stretch _stretch _stretch _stretch dedit dedit dedit dedit dedit _stretch _stretch _stretch _stretch _stretch _stretch properties copyclip paste _stretch copyclip paste _stretch _stretch dedit _stretch _stretch dedit paste paste copyclip paste _stretch _stretch _stretch dedit _stretch copyclip _stretch _stretch editundo _stretch editundo properties _stretch properties properties _stretch _stretch _stretch _stretch _stretch properties _stretch properties properties dropgeom _stretch properties _stretch properties properties _stretch _stretch _stretch _stretch _stretch _stretch _stretch _stretch _stretch _stretch properties _stretch _stretch properties _stretch properties properties _stretch _stretch _stretch _stretch _stretch dedit dropgeom dedit dropgeom dropgeom copyclip paste copyclip paste _stretch _stretch _stretch _stretch _stretch _stretch _stretch _stretch _stretch dedit _stretch _stretch properties _stretch _stretch _stretch dedit dedit paste dedit copyclip properties paste dedit _stretch _stretch dedit _stretch _stretch _stretch _stretch dedit line copyclip paste dedit _stretch _stretch _stretch _stretch _stretch _stretch properties properties savedocument savedocument saveasdocument dedit dedit copyclip paste copyclip paste _stretch _stretch dropgeom dedit _stretch _stretch _stretch _stretch copyclip copyclip paste line cut properties cut copyclip paste _stretch _stretch _stretch dedit dropgeom _stretch _stretch _stretch properties dropgeom _stretch dedit _stretch copyclip paste _stretch dropgeom _stretch _stretch _stretch dedit dedit cut line line copyclip copyclip copyclip paste _stretch copyclip paste copyclip paste _stretch _stretch _stretch _stretch _stretch _stretch delete copyclip paste _stretch dropgeom _stretch _stretch _stretch _stretch _stretch _stretch _stretch _stretch _stretch _stretch _stretch dedit _stretch _stretch saveasdocument _stretch properties saveasdocument layout_control line line properties dropgeom editundo delete line line line line arc arc _stretch _stretch line line line line delete delete delete _stretch _stretch _stretch _stretch _stretch _stretch line line line delete dropgeom delete delete delete delete delete _stretch line line line line line line line delete line line line _stretch _stretch line line _stretch _stretch _stretch properties _stretch line line _stretch editundo line line line line line _stretch dropgeom properties _stretch _stretch _stretch dropgeom _stretch _stretch _stretch _stretch _stretch _stretch properties _stretch properties _stretch line line line line line properties _stretch properties cut line _stretch _stretch _stretch _stretch line line line _stretch _stretch _stretch _stretch line line _stretch _stretch delete _stretch _stretch _stretch line line line _stretch line _stretch line line _stretch _stretch _stretch line line dropgeom dropgeom _stretch line line line line line line line line line line arc line circle arc _stretch copyclip paste copyclip paste copyclip paste paste paste _stretch _stretch arc copyclip paste paste paste paste paste _stretch delete arc arc _stretch arc line line line properties line line line line line line line line line line line line line line line line line line line line line line line line delete editundo editundo dropgeom delete line line simplepolyline line line line line line line line line line dropgeom _stretch line line line _stretch line line line line line _stretch line line line line line _stretch line line line line editundo line line line line editundo line line properties line line line _stretch _stretch _stretch _stretch arc _stretch copyclip copyclip paste paste paste _stretch _stretch line line line line line line line line line line arc line _stretch line line line _stretch line dropgeom dropgeom line savedocument properties _stretch _stretch properties _stretch _stretch _stretch _stretch _stretch dropgeom line _stretch properties _stretch mtextcreate delete mtextcreate delete line line line line dropgeom _stretch line line line line line line line matbrowseropen eattedit insertblock savedocument layout_control line line line line line line line line line line line line line line line line line line line line line line line line line line line line line line line line line line line line line line line line line line properties editundo line line line simplepolyline line line line line line line line line line line line line line line line line line dropgeom _stretch dropgeom line line _stretch arc line arc _stretch _stretch editundo editundo editundo arc line arc arc line properties _stretch properties line arc line _stretch copyclip paste _stretch paste _stretch paste copyclip delete paste _stretch paste _stretch arc _stretch _stretch line copyclip paste properties _stretch arc dropgeom dropgeom _stretch _stretch _stretch _stretch _stretch line _stretch arc line _stretch _stretch _stretch _stretch _stretch line line arc _stretch _stretch _stretch _stretch _stretch _stretch properties _stretch _stretch _stretch _stretch _stretch line line line properties _stretch properties properties _stretch properties _stretch editundo editundo editundo editundo line _stretch _stretch line line line line line line line line line line line line _stretch line _stretch dropgeom editundo line line line properties properties _stretch _stretch _stretch editundo editundo editundo editundo line _stretch line line line line line properties _stretch line properties _stretch line line line circle circle circlebydiameter circlebydiameter _stretch _stretch circlebydiameter _stretch _stretch _stretch _stretch _stretch _stretch _stretch _stretch line line properties _stretch line arc _stretch arc copyclip paste paste _stretch _stretch circlebydiameter arc _stretch _stretch _stretch _stretch _stretch _stretch _stretch arc _stretch copyclip paste paste copyclip paste arc _stretch circlebydiameter _stretch _stretch _stretch line _stretch line line cut arc _stretch _stretch dropgeom arc dropgeom _stretch _stretch dropgeom _stretch _stretch _stretch _stretch _stretch _stretch _stretch arc _stretch arc _stretch _stretch _stretch dropgeom editundo _stretch _stretch _stretch _stretch _stretch dropgeom editundo _stretch saveasdocument layout_control line delete delete line delete line editundo line editundo editredo delete line _stretch editundo line delete circle editundo editundo editundo editundo editundo editundo editundo editundo editundo editundo editundo editundo editundo editundo layout_control frame1 frame1 frame1 layout_control circle circle properties circle properties editundo editredo properties properties properties properties savedocument savedocument layout_control arc arcbycenterstartangle delete circle line editundo editundo circle circle circle editundo editundo editundo circle editundo circle line editundo line line editundo layout_control layout_control layout_control layout_control line _stretch _stretch _stretch _stretch _stretch _stretch _stretch _stretch _stretch _stretch layout_control layout_control layout_control copyclip layout_control paste _stretch editundo dropgeom dropgeom _stretch delete delete delete dropgeom dropgeom layout_control layout_control delete layout_control layout_control layout_control layout_control layout_control layout_control layout_control layout_control layout_control layout_control layout_control layout_control layout_control layout_control layout_control paste paste paste paste paste paste paste paste paste paste paste paste paste paste paste paste paste paste paste paste paste paste paste paste paste paste paste paste paste paste paste paste paste paste layout_control paste editundo layout_control copyclip layout_control layout_control paste line line layout_control layout_control layout_control layout_control layout_control layout_control layout_control layout_control layout_control layout_control layout_control layout_control copyclip layout_control paste editundo layout_control layout_control layout_control saveasdocument saveasdocument layout_control line line line line line line line line line editundo editundo editundo editundo editundo editundo editundo editundo editundo editundo editundo editundo editundo editundo editundo editundo editundo editundo editundo editundo editundo editundo editundo editundo editundo editundo editundo editundo editundo editundo editundo editundo editundo editundo editundo editundo editundo editundo editundo editundo editundo editundo editundo editundo editundo editundo editundo layout_control line editundo line line line delete layout_control layout_control layout_control layout_control layout_control line line line line line _stretch _stretch _stretch _stretch _stretch _stretch _stretch _stretch _stretch _stretch _stretch _stretch _stretch _stretch _stretch _stretch line line redraw interface setconfig showtoolbar_edit editundo showtoolbar_edit restoreuistate layout_control layout_control layout_control preferencescmd line editundo line line _stretch _stretch _stretch dedit editundo editundo line line dedit properties _stretch _stretch _stretch _stretch _stretch editundo editundo mtextcreate _stretch _stretch mtextcreate _stretch mtextcreate mtextcreate mtextcreate _stretch _stretch mtextcreate _stretch _stretch line line line line copyclip paste dropgeom dropgeom dropgeom editundo addgroup groupedit editundo group editundo addgroup groupedit dropgeom mtextcreate mtextcreate mtextcreate mtextcreate mtextcreate mtextcreate _stretch _stretch _stretch _stretch _stretch _stretch dropgeom layout_control layout_control layout_control layout_control layout_control layout_control _stretch', 'copyclip copywithbasepoint pasteorigin saveasdocument delete delete editundo delete delete delete savedocument layout_control layout_control layout_control layout_control layout_control layout_control dteditcell dteditcell dteditcell dteditcell dteditcell dteditcell dteditcell dteditcell dteditcell dteditcell dteditcell dteditcell dteditcell dteditcell dteditcell dteditcell dteditcell dteditcell dteditcell dteditcell dteditcell dteditcell dteditcell savedocument dteditcell dteditcell dteditcell dteditcell dteditcell dteditcell copyobjectprops dteditcell dteditcell color dteditcell dteditcell dteditcell dteditcell dteditcell dteditcell dteditcell dteditcell dteditcell dteditcell dteditcell dteditcell dteditcell dteditcell dteditcell dteditcell dteditcell dteditcell dteditcell dteditcell dteditcell dteditcell dteditcell dteditcell dteditcell dteditcell dteditcell savedocument dteditcell dteditcell dteditcell dteditcell editundo editundo dteditcell dteditcell dteditcell savedocument savedocument dropgeom dteditcell dteditcell dteditcell dteditcell dteditcell dteditcell dteditcell dteditcell dteditcell dteditcell dteditcell dteditcell dteditcell dteditcell dteditcell dteditcell dteditcell dteditcell dteditcell dteditcell dteditcell dteditcell dteditcell dteditcell dteditcell dteditcell savedocument layout_control layout_control layout_control layout_control layout_control simplepolyline delete simplepolyline delete simplepolyline _stretch properties line delete layout_control layout_control layout_control layout_control layout_control', 'sheetset sheetset plot saveasdocument pdfimport export plot delete delete plot', 'insertraster delete uattach insertraster simplepolyline movecopy hatchcmd movecopy movecopy _stretch copyclip paste saveasdocument savedocument simplepolyline simplepolyline simplepolyline simplepolyline simplepolyline simplepolyline simplepolyline simplepolyline simplepolyline simplepolyline simplepolyline simplepolyline simplepolyline simplepolyline simplepolyline simplepolyline simplepolyline simplepolyline simplepolyline simplepolyline simplepolyline simplepolyline simplepolyline simplepolyline _stretch _stretch simplepolyline simplepolyline simplepolyline simplepolyline simplepolyline simplepolyline simplepolyline simplepolyline simplepolyline simplepolyline simplepolyline simplepolyline simplepolyline delete simplepolyline simplepolyline simplepolyline _stretch _stretch simplepolyline simplepolyline simplepolyline simplepolyline simplepolyline simplepolyline simplepolyline simplepolyline simplepolyline _stretch simplepolyline simplepolyline simplepolyline simplepolyline simplepolyline simplepolyline simplepolyline simplepolyline simplepolyline simplepolyline simplepolyline simplepolyline simplepolyline simplepolyline simplepolyline simplepolyline simplepolyline simplepolyline simplepolyline simplepolyline simplepolyline simplepolyline simplepolyline simplepolyline _stretch simplepolyline delete _stretch simplepolyline join draworder1 draworder savedocument simplepolyline simplepolyline simplepolyline simplepolyline simplepolyline simplepolyline simplepolyline simplepolyline simplepolyline simplepolyline simplepolyline simplepolyline simplepolyline simplepolyline simplepolyline simplepolyline simplepolyline simplepolyline simplepolyline simplepolyline simplepolyline simplepolyline simplepolyline simplepolyline simplepolyline simplepolyline simplepolyline simplepolyline simplepolyline simplepolyline simplepolyline simplepolyline simplepolyline simplepolyline simplepolyline simplepolyline simplepolyline simplepolyline simplepolyline simplepolyline simplepolyline simplepolyline simplepolyline simplepolyline simplepolyline delete simplepolyline simplepolyline simplepolyline simplepolyline simplepolyline _stretch _stretch editundo editundo editundo editredo vcbreakcmd _stretch _stretch _stretch _stretch _stretch _stretch vcbreakcmd simplepolyline simplepolyline simplepolyline copyobjectprops copyobjectprops simplepolyline copyobjectprops arc simplepolyline dropgeom movecopy _stretch dropgeom movecopy mirror delete movecopy delete savedocument simplepolyline simplepolyline simplepolyline simplepolyline simplepolyline simplepolyline simplepolyline simplepolyline move editundo editundo mtextcreate dropgeom movecopy movecopy mtextedit dropgeom mtextedit dropgeom mtextedit mtextedit dropgeom mtextedit mtextedit mtextedit mtextedit mtextedit mtextedit mtextedit mtextedit savedocument mtextedit mtextedit mtextedit mtextedit mtextedit mtextedit mtextedit mtextedit savedocument mtextedit mtextedit mtextedit mtextedit mtextedit mtextedit mtextedit dropgeom mtextedit mtextedit dropgeom mtextedit mtextedit dropgeom mtextedit mtextedit dropgeom mtextedit mtextedit dropgeom mtextedit mtextedit dropgeom mtextedit mtextedit dropgeom mtextedit mtextedit dropgeom mtextedit mtextedit dropgeom mtextedit mtextedit dropgeom mtextedit mtextedit dropgeom simplepolyline simplepolyline simplepolyline simplepolyline mtextedit mtextedit mtextedit mtextedit mtextedit mtextedit mtextedit mtextedit dropgeom mtextedit mtextedit mtextedit mtextedit mtextedit mtextedit mtextedit mtextedit mtextedit mtextedit mtextedit mtextedit mtextedit mtextedit dropgeom mtextedit dropgeom mtextedit dropgeom mtextedit mtextedit dropgeom mtextedit mtextedit dropgeom mtextedit savedocument dropgeom dropgeom dropgeom dropgeom dropgeom dropgeom _stretch dropgeom dropgeom dropgeom dropgeom dropgeom dropgeom dropgeom dropgeom dropgeom dropgeom dropgeom dropgeom dropgeom dropgeom dropgeom dropgeom dropgeom dropgeom dropgeom dropgeom dropgeom dropgeom dropgeom dropgeom dropgeom dropgeom dropgeom dropgeom dropgeom dropgeom dropgeom dropgeom _stretch dropgeom mtextedit dropgeom dropgeom savedocument mtextedit dropgeom copyobjectprops delete delete delete circle movecopy mtextedit mtextedit dropgeom mtextedit dropgeom mtextedit mtextedit dropgeom mtextedit dropgeom mtextedit dropgeom mtextedit dropgeom mtextedit dropgeom mtextedit dropgeom mtextedit mtextedit dropgeom dropgeom mtextedit dropgeom mtextedit dropgeom _stretch mtextedit dropgeom mtextedit dropgeom _stretch _stretch mtextedit dropgeom mtextedit dropgeom _stretch _stretch mtextedit dropgeom _stretch _stretch _stretch dropgeom mtextedit dropgeom _stretch mtextedit dropgeom circle mtextedit dropgeom dropgeom mtextedit copyclip paste savedocument delete copyclip paste mtextedit dropgeom movecopy mtextedit mtextedit copyclip paste mtextedit savedocument selectsimilar layer savedocument hatchcmd hatchcmd hatchcmd hatchcmd hatchcmd hatchcmd hatchcmd hatchcmd hatchcmd hatchcmd circle circle rectangle rectangle rectangle rectangle copyclip pasteorigin rectangle hatchcmd hatchedit hatchedit hatchedit hatchedit delete simplepolyline hatchedit hatchcmd simplepolyline hatchcmd hatchcmd hatchedit hatchedit hatchedit hatchedit hatchedit hatchedit hatchedit hatchedit hatchedit savedocument hatchcmd hatchcmd delete hatchcmd hatchcmd delete hatchedit hatchedit hatchedit hatchedit hatchedit hatchedit editundo hatchedit _stretch _stretch _stretch _stretch _stretch _stretch _stretch _stretch _stretch _stretch _stretch _stretch _stretch _stretch _stretch _stretch _stretch _stretch _stretch hatchedit hatchcmd hatchedit hatchedit savedocument delete simplepolyline simplepolyline movecopy movecopy newblock selectsimilar newblock delete selectsimilar copyclip pasteorigin copyclip pasteorigin savedocument dropgeom dropgeom dropgeom simplepolyline simplepolyline mtextedit delete dropgeom delete delete mtextedit dropgeom dropgeom mtextedit dropgeom mtextedit dropgeom mtextedit mtextedit dropgeom mtextedit mtextedit mtextedit mtextedit mtextedit dropgeom mtextedit dropgeom mtextedit _stretch dropgeom mtextedit mtextedit dropgeom mtextedit dropgeom mtextedit mtextedit dropgeom mtextedit mtextedit dropgeom mtextedit dropgeom mtextedit mtextedit dropgeom mtextedit mtextedit dropgeom mtextedit mtextedit dropgeom mtextedit mtextedit mtextedit mtextedit mtextedit mtextedit mtextedit dropgeom mtextedit mtextedit mtextedit mtextedit mtextedit mtextedit mtextedit dropgeom mtextedit dropgeom mtextedit mtextedit dropgeom mtextedit mtextedit dropgeom mtextedit mtextedit mtextedit mtextedit mtextedit mtextedit mtextedit mtextedit mtextedit mtextedit mtextedit mtextedit mtextedit dropgeom mtextedit delete mtextedit dropgeom dropgeom dropgeom dropgeom dropgeom dropgeom dropgeom _stretch dropgeom dropgeom dropgeom dropgeom dropgeom dropgeom dropgeom dropgeom dropgeom dropgeom dropgeom dropgeom dropgeom dropgeom dropgeom dropgeom dropgeom dropgeom dropgeom dropgeom dropgeom dropgeom dropgeom dropgeom dropgeom dropgeom dropgeom dropgeom savedocument dropgeom dropgeom dropgeom dropgeom dropgeom savedocument hatchcmd hatchcmd hatchcmd hatchedit simplepolyline simplepolyline simplepolyline hatchedit hatchedit hatchedit hatchedit _stretch dropgeom hatchcmd hatchcmd move savedocument', 'simplepolyline simplepolyline simplepolyline viewshowhatches simplepolyline simplepolyline mdim simplepolyline delete simplepolyline mdim simplepolyline delete simplepolyline mdim simplepolyline mdim simplepolyline mdim simplepolyline mdim simplepolyline simplepolyline simplepolyline simplepolyline delete mdim mdim simplepolyline simplepolyline mdim simplepolyline simplepolyline savedocument mdim delete vcoffsetcmd join vcoffsetcmd mdim delete simplepolyline simplepolyline simplepolyline simplepolyline simplepolyline simplepolyline simplepolyline simplepolyline simplepolyline simplepolyline simplepolyline simplepolyline simplepolyline simplepolyline simplepolyline simplepolyline delete simplepolyline delete simplepolyline simplepolyline simplepolyline simplepolyline simplepolyline simplepolyline delete simplepolyline simplepolyline simplepolyline simplepolyline simplepolyline simplepolyline delete delete delete delete delete simplepolyline simplepolyline simplepolyline simplepolyline simplepolyline simplepolyline simplepolyline move move mdim setscale mdim delete simplepolyline delete delete delete delete mdim delete delete mdim mdim mdim simplepolyline mdim delete mdim mdim mdim delete simplepolyline mdim vctrimbyedgecmd mdim mdim simplepolyline vctrimbyedgecmd mdim delete delete mdim mdim mdim delete mdim delete mdim simplepolyline simplepolyline delete savedocument simplepolyline delete simplepolyline simplepolyline simplepolyline delete simplepolyline simplepolyline vctrimbyedgecmd simplepolyline simplepolyline simplepolyline simplepolyline delete simplepolyline simplepolyline simplepolyline simplepolyline delete simplepolyline simplepolyline simplepolyline mdim delete delete delete savedocument simplepolyline simplepolyline simplepolyline delete simplepolyline simplepolyline simplepolyline simplepolyline delete delete delete delete simplepolyline delete', 'eattedit eattedit eattedit eattedit eattedit eattedit eattedit eattedit paste ddedit ddedit mtextcreate mtextedit', 'layout_control layout_control layout_control properties simplepolyline _stretch simplepolyline properties simplepolyline simplepolyline move simplepolyline move move move move simplepolyline _stretch _stretch editundo delete simplepolyline simplepolyline layout_control rectangle rectangle rectangle layout_control layout_control rectangle _stretch _stretch _stretch _stretch layout_control layout_control layout_control layout_control layout_control layout_control layout_control layout_control layout_control layout_control layout_control layout_control layout_control layout_control simplepolyline viewshowwidth viewshowwidth viewshowwidth simplepolyline simplepolyline simplepolyline simplepolyline selectsimilar move hatchcmd properties layout_control simplepolyline viewshowwidth viewshowwidth viewshowwidth simplepolyline simplepolyline simplepolyline simplepolyline simplepolyline simplepolyline simplepolyline simplepolyline selectsimilar move hatchcmd viewshowwidth layout_control simplepolyline viewshowwidth move hatchcmd layout_control simplepolyline move hatchcmd layout_control layout_control rectangle rectangle rectangle simplepolyline viewshowwidth viewshowwidth viewshowwidth simplepolyline simplepolyline simplepolyline simplepolyline simplepolyline simplepolyline simplepolyline properties selectsimilar selectsimilar selectsimilar selectsimilar selectsimilar selectsimilar selectsimilar selectsimilar selectall selectsimilar selectsimilar selectsimilar selectsimilar selectsimilar selectsimilar selectsimilar delete delete delete editundo editundo editundo copyclip mdim mdim layout_control layout_control simplepolyline layout_control selectsimilar layout_control selectsimilar selectsimilar selectsimilar selectsimilar selectsimilar simplepolyline rectangle rectangle rectangle rectangle selectsimilar simplepolyline viewshowwidth simplepolyline simplepolyline simplepolyline simplepolyline selectsimilar move hatchcmd editundo hatchcmd layout_control layout_control layout_control layout_control delete delete simplepolyline viewshowwidth simplepolyline properties selectsimilar layout_control simplepolyline viewshowwidth simplepolyline delete delete properties layout_control layout_control copyclip layout_control properties simplepolyline simplepolyline simplepolyline selectsimilar simplepolyline']\n"
          ]
        }
      ],
      "source": [
        "import gzip\n",
        "import zipfile\n",
        "\n",
        "def getTextsFromZip(path: str, listPassNames: list = ['_stat.log.gz']):\n",
        "        \"\"\"\n",
        "        1. Iterate through zip directory and get Texts from Files\n",
        "        2. Get text from *.gz, *.log, *.txt\n",
        "        \"\"\"\n",
        "        files_names = []; files_lines = [];\n",
        "        if zipfile.is_zipfile(path) == False: return files_names, files_lines;\n",
        "\n",
        "        with zipfile.ZipFile(path) as _zip:\n",
        "            _zip_nameList = _zip.namelist();\n",
        "            for filename in tqdm(_zip_nameList):\n",
        "                if filename.endswith('/'): continue;\n",
        "\n",
        "                unicode_filename = filename.encode('cp437').decode('cp866')  # reencode!!! (for russian characters)\n",
        "\n",
        "                'Пропускаем файлы, если пришла настройка пропускать файлы, которые содержат в имени слова'\n",
        "                needContinue = False\n",
        "                if listPassNames is not None:\n",
        "                    for passName in listPassNames:\n",
        "                        if passName in unicode_filename: needContinue = True; break;\n",
        "                if needContinue: continue;\n",
        "\n",
        "                with _zip.open(filename, 'r') as myfile:\n",
        "                    lines = None\n",
        "                    if '.gz' in filename:\n",
        "                        if filename.endswith('.gz'):           # полные файлы с логами\n",
        "                            try:\n",
        "                              with gzip.open(myfile, 'r', 'ansi') as f:\n",
        "                                lines = f.read()\n",
        "                            except:\n",
        "                                bLines = myfile.read()\n",
        "                                lines = str(bLines)\n",
        "                    else:\n",
        "                        bLines = myfile.read()\n",
        "                        lines = str(bLines)\n",
        "                    if lines is None or len(lines) <= 0: continue;\n",
        "                    files_names.append(unicode_filename)\n",
        "                    files_lines.append(lines)\n",
        "        return files_names, files_lines;\n",
        "\n",
        "def has_multiple_words(s):\n",
        "    tokenizer = Tokenizer()\n",
        "    tokenizer.fit_on_texts([s])\n",
        "    total_words = len(tokenizer.word_index)\n",
        "    #print(tokenizer.word_index, \"=\", total_words)\n",
        "    return total_words > 1\n",
        "\n",
        "def FormatTextToStandard(in_Str_docs, textToReplaceList):\n",
        "    corpus = []\n",
        "    for in_Str in tqdm(in_Str_docs):\n",
        "        doc_replaced = ''\n",
        "        in_Str_decode = in_Str.decode(\"cp437\") if isinstance(in_Str, bytes) else in_Str\n",
        "        try:\n",
        "            findCommandNames = re.findall(r'\\<[^/].*?\\>', in_Str_decode) # Находим текст в <> исключая </>\n",
        "\n",
        "            # Convert list to one line string\n",
        "            data = ' '. join(findCommandNames)\n",
        "            #replace unnecessary stuff with space\n",
        "            data = data.replace('\\n', '').replace('\\r', '').replace('\\ufeff', '').replace('“','').replace('”','')  #new line, carriage return, unicode character --> replace by space\n",
        "            data = data.replace('<', '').replace('>', '')\n",
        "            data = data.lower()\n",
        "            data = data.replace('exit', '').replace('closedocument', '').replace('opendocument', '')\n",
        "            data = data.replace('about', '').replace('vectorizer', '').replace('startupvperftest', '')\n",
        "            data = data.replace('tipofday', '').replace('grip', '').replace('ribbon', '')\n",
        "            data = data.replace('grip_stretch ', '').replace('inspector', '').replace('newdocument', '')\n",
        "            data = data.replace('viewpan ', '').replace('ncgs_toggle_', '').replace('-netload', '')\n",
        "            data = data.replace('netload', '').replace('toggle3dosnap', '').replace('regen', '')\n",
        "            #remove unnecessary spaces\n",
        "            data = data.split()\n",
        "            if (len(data) <= 2): continue;\n",
        "            doc_replaced = ' '.join(data)\n",
        "            if not has_multiple_words(doc_replaced): continue;\n",
        "        except:\n",
        "            pass\n",
        "        if doc_replaced == '' or doc_replaced == None:\n",
        "          continue\n",
        "        corpus.append(doc_replaced)\n",
        "    return corpus\n",
        "\n",
        "files_names, files_lines = getTextsFromZip(uploaded_zip_path)\n",
        "corpus = FormatTextToStandard(files_lines, [])\n",
        "print(len(corpus))\n",
        "corpus = corpus[5:15]\n",
        "print(corpus)"
      ]
    },
    {
      "cell_type": "code",
      "execution_count": 7,
      "metadata": {
        "colab": {
          "base_uri": "https://localhost:8080/"
        },
        "id": "3_QD8Fy5Koj7",
        "outputId": "ba23940d-1cd3-4cff-be0f-72ce282f91b9"
      },
      "outputs": [
        {
          "output_type": "stream",
          "name": "stdout",
          "text": [
            "Number of all records:  10\n",
            "Number of all fields:  1\n",
            "-----------------------------------------\n"
          ]
        }
      ],
      "source": [
        "all_data = pd.DataFrame(corpus)\n",
        "print(\"Number of all records: \", all_data.shape[0])\n",
        "print(\"Number of all fields: \", all_data.shape[1])\n",
        "print(\"-----------------------------------------\")"
      ]
    },
    {
      "cell_type": "markdown",
      "metadata": {
        "id": "uAeu41JBKoj7"
      },
      "source": [
        "# Отображение документов и последовательностей команд"
      ]
    },
    {
      "cell_type": "code",
      "execution_count": 8,
      "metadata": {
        "colab": {
          "base_uri": "https://localhost:8080/"
        },
        "id": "LethuoUGKoj7",
        "outputId": "cdd600db-6085-4914-c810-46643b529e0b"
      },
      "outputs": [
        {
          "output_type": "stream",
          "name": "stdout",
          "text": [
            "all_data=                                                   0\n",
            "0  layout_control layout_control layout_control l...\n",
            "1  normaaudit circle delete circle movecopy toggl...\n",
            "2  normaaudit line toggleorto toggleorto line lin...\n",
            "3  circle arc simplepolyline layout_control layou...\n",
            "4  copyclip copywithbasepoint pasteorigin saveasd...\n",
            "5  sheetset sheetset plot saveasdocument pdfimpor...\n",
            "6  insertraster delete uattach insertraster simpl...\n",
            "7  simplepolyline simplepolyline simplepolyline v...\n",
            "8  eattedit eattedit eattedit eattedit eattedit e...\n",
            "9  layout_control layout_control layout_control p...\n",
            "-----------------------------------------\n"
          ]
        }
      ],
      "source": [
        "print(f\"{all_data=}\")\n",
        "print(\"-----------------------------------------\")"
      ]
    },
    {
      "cell_type": "markdown",
      "metadata": {
        "id": "8hLeiRY9Koj8"
      },
      "source": [
        "#### Токенизация\n",
        "\n",
        " Токенизация - это процесс, в котором мы присваиваем уникальный идентификатор всем словам и составляем индекс слов, можно сказать, получаем словарный запас."
      ]
    },
    {
      "cell_type": "code",
      "execution_count": 9,
      "metadata": {
        "colab": {
          "base_uri": "https://localhost:8080/"
        },
        "id": "6FeORqk6Koj8",
        "outputId": "e8b144d6-02b1-4af8-fcf5-719fec7a0de7"
      },
      "outputs": [
        {
          "output_type": "stream",
          "name": "stdout",
          "text": [
            "Total number of words:  87\n",
            "{'stretch': 1, 'line': 2, 'simplepolyline': 3, 'dropgeom': 4, 'layout': 5, 'control': 6, 'editundo': 7, 'mtextedit': 8, 'delete': 9, 'paste': 10, 'properties': 11, 'dteditcell': 12, 'copyclip': 13, 'circle': 14, 'dedit': 15, 'savedocument': 16, 'arc': 17, 'mdim': 18, 'hatchcmd': 19, 'hatchedit': 20, 'selectsimilar': 21, 'rectangle': 22, 'move': 23, 'plot': 24, 'note': 25, 'mtextcreate': 26, 'cut': 27, 'saveasdocument': 28, 'movecopy': 29, 'viewshowwidth': 30, 'arcbystartcenterend': 31, 'eattedit': 32, 'toggleorto': 33, 'normaaudit': 34, 'zoom': 35, 'dtext': 36, 'ddedit': 37, 'circlebydiameter': 38, 'copyobjectprops': 39, 'pasteorigin': 40, 'rotate': 41, 'vcoffsetcmd': 42, 'arcbystartcenterlength': 43, 'editredo': 44, 'frame1': 45, 'vctrimbyedgecmd': 46, 'copywithbasepoint': 47, 'dist': 48, 'layer': 49, 'preferencescmd': 50, 'showtoolbar': 51, 'edit': 52, 'addgroup': 53, 'groupedit': 54, 'sheetset': 55, 'insertraster': 56, 'join': 57, 'vcbreakcmd': 58, 'newblock': 59, 'pasteblock': 60, 'togglesnap': 61, 'toggleosnapnext': 62, 'scale': 63, 'rmproxy': 64, 'setvar': 65, 'params': 66, 'notep': 67, 'notek': 68, 'matbrowseropen': 69, 'insertblock': 70, 'arcbycenterstartangle': 71, 'redraw': 72, 'interface': 73, 'setconfig': 74, 'restoreuistate': 75, 'group': 76, 'color': 77, 'pdfimport': 78, 'export': 79, 'uattach': 80, 'draworder1': 81, 'draworder': 82, 'mirror': 83, 'viewshowhatches': 84, 'setscale': 85, 'selectall': 86}\n"
          ]
        }
      ],
      "source": [
        "tokenizer = Tokenizer()\n",
        "tokenizer.fit_on_texts(all_data[0])\n",
        "total_words = len(tokenizer.word_index) + 1\n",
        "print(\"Total number of words: \", total_words)\n",
        "print(tokenizer.word_index)\n",
        "\n",
        "# saving the tokenizer for predict function\n",
        "pickle.dump(tokenizer, open('token.pkl', 'wb'))"
      ]
    },
    {
      "cell_type": "markdown",
      "metadata": {
        "id": "CouVNJp4Koj8"
      },
      "source": [
        "#### Разбиение текста на последовательности и создание модели n_gram\n",
        "\n",
        "Разбиение на n-граммы. Затем, создание n_gram-модели для хорошего предсказания.\n"
      ]
    },
    {
      "cell_type": "code",
      "execution_count": 10,
      "metadata": {
        "colab": {
          "base_uri": "https://localhost:8080/"
        },
        "id": "9rGMo4pXKoj8",
        "outputId": "70825bd6-ddf1-44b5-eed9-ffe784ef0165"
      },
      "outputs": [
        {
          "output_type": "stream",
          "name": "stdout",
          "text": [
            "[[5, 6], [5, 6, 5]]\n",
            "Total input sequences:  2419\n"
          ]
        }
      ],
      "source": [
        "input_sequences = []\n",
        "for line in all_data[0]:\n",
        "    token_list = tokenizer.texts_to_sequences([line])[0]\n",
        "    #print(token_list)\n",
        "\n",
        "    for i in range(1, len(token_list)):\n",
        "        n_gram_sequence = token_list[:i+1]\n",
        "        input_sequences.append(n_gram_sequence)\n",
        "\n",
        "#if len(input_sequences) > 10000: input_sequences = input_sequences[:10000];\n",
        "#print(input_sequences[:2])\n",
        "#print(\"Total input sequences: \", len(input_sequences))\n",
        "\n",
        "filtered_sequences = []\n",
        "for _line in input_sequences:\n",
        "  if len(_line) > 1000: continue;\n",
        "  filtered_sequences.append(_line)\n",
        "input_sequences = filtered_sequences\n",
        "\n",
        "print(input_sequences[:2])\n",
        "print(\"Total input sequences: \", len(input_sequences))"
      ]
    },
    {
      "cell_type": "markdown",
      "metadata": {
        "id": "M5C9d2osKoj8"
      },
      "source": [
        "#### Делаем все преложения одинаковыми по длине\n",
        "\n",
        "Длина каждого предложения должна быть одинаковой. Чтобы сделать это, нужно найти заголовок, имеющий максимальную длину, и на основе этой длины разбить остальные заголовки."
      ]
    },
    {
      "cell_type": "code",
      "execution_count": 11,
      "metadata": {
        "colab": {
          "base_uri": "https://localhost:8080/"
        },
        "id": "Z1KN1v-PKoj8",
        "outputId": "95e49298-09c5-4241-a1ab-6069eb91ec7e"
      },
      "outputs": [
        {
          "output_type": "stream",
          "name": "stdout",
          "text": [
            "max_sequence_len=1000\n",
            "[0 0 0 0 0 0 0 0 0 0 0 0 0 0 0 0 0 0 0 0 0 0 0 0 0 0 0 0 0 0 0 0 0 0 0 0 0\n",
            " 0 0 0 0 0 0 0 0 0 0 0 0 0 0 0 0 0 0 0 0 0 0 0 0 0 0 0 0 0 0 0 0 0 0 0 0 0\n",
            " 0 0 0 0 0 0 0 0 0 0 0 0 0 0 0 0 0 0 0 0 0 0 0 0 0 0 0 0 0 0 0 0 0 0 0 0 0\n",
            " 0 0 0 0 0 0 0 0 0 0 0 0 0 0 0 0 0 0 0 0 0 0 0 0 0 0 0 0 0 0 0 0 0 0 0 0 0\n",
            " 0 0 0 0 0 0 0 0 0 0 0 0 0 0 0 0 0 0 0 0 0 0 0 0 0 0 0 0 0 0 0 0 0 0 0 0 0\n",
            " 0 0 0 0 0 0 0 0 0 0 0 0 0 0 0 0 0 0 0 0 0 0 0 0 0 0 0 0 0 0 0 0 0 0 0 0 0\n",
            " 0 0 0 0 0 0 0 0 0 0 0 0 0 0 0 0 0 0 0 0 0 0 0 0 0 0 0 0 0 0 0 0 0 0 0 0 0\n",
            " 0 0 0 0 0 0 0 0 0 0 0 0 0 0 0 0 0 0 0 0 0 0 0 0 0 0 0 0 0 0 0 0 0 0 0 0 0\n",
            " 0 0 0 0 0 0 0 0 0 0 0 0 0 0 0 0 0 0 0 0 0 0 0 0 0 0 0 0 0 0 0 0 0 0 0 0 0\n",
            " 0 0 0 0 0 0 0 0 0 0 0 0 0 0 0 0 0 0 0 0 0 0 0 0 0 0 0 0 0 0 0 0 0 0 0 0 0\n",
            " 0 0 0 0 0 0 0 0 0 0 0 0 0 0 0 0 0 0 0 0 0 0 0 0 0 0 0 0 0 0 0 0 0 0 0 0 0\n",
            " 0 0 0 0 0 0 0 0 0 0 0 0 0 0 0 0 0 0 0 0 0 0 0 0 0 0 0 0 0 0 0 0 0 0 0 0 0\n",
            " 0 0 0 0 0 0 0 0 0 0 0 0 0 0 0 0 0 0 0 0 0 0 0 0 0 0 0 0 0 0 0 0 0 0 0 0 0\n",
            " 0 0 0 0 0 0 0 0 0 0 0 0 0 0 0 0 0 0 0 0 0 0 0 0 0 0 0 0 0 0 0 0 0 0 0 0 0\n",
            " 0 0 0 0 0 0 0 0 0 0 0 0 0 0 0 0 0 0 0 0 0 0 0 0 0 0 0 0 0 0 0 0 0 0 0 0 0\n",
            " 0 0 0 0 0 0 0 0 0 0 0 0 0 0 0 0 0 0 0 0 0 0 0 0 0 0 0 0 0 0 0 0 0 0 0 0 0\n",
            " 0 0 0 0 0 0 0 0 0 0 0 0 0 0 0 0 0 0 0 0 0 0 0 0 0 0 0 0 0 0 0 0 0 0 0 0 0\n",
            " 0 0 0 0 0 0 0 0 0 0 0 0 0 0 0 0 0 0 0 0 0 0 0 0 0 0 0 0 0 0 0 0 0 0 0 0 0\n",
            " 0 0 0 0 0 0 0 0 0 0 0 0 0 0 0 0 0 0 0 0 0 0 0 0 0 0 0 0 0 0 0 0 0 0 0 0 0\n",
            " 0 0 0 0 0 0 0 0 0 0 0 0 0 0 0 0 0 0 0 0 0 0 0 0 0 0 0 0 0 0 0 0 0 0 0 0 0\n",
            " 0 0 0 0 0 0 0 0 0 0 0 0 0 0 0 0 0 0 0 0 0 0 0 0 0 0 0 0 0 0 0 0 0 0 0 0 0\n",
            " 0 0 0 0 0 0 0 0 0 0 0 0 0 0 0 0 0 0 0 0 0 0 0 0 0 0 0 0 0 0 0 0 0 0 0 0 0\n",
            " 0 0 0 0 0 0 0 0 0 0 0 0 0 0 0 0 0 0 0 0 0 0 0 0 0 0 0 0 0 0 0 0 0 0 0 0 0\n",
            " 0 0 0 0 0 0 0 0 0 0 0 0 0 0 0 0 0 0 0 0 0 0 0 0 0 0 0 0 0 0 0 0 0 0 0 0 0\n",
            " 0 0 0 0 0 0 0 0 0 0 0 0 0 0 0 0 0 0 0 0 0 0 0 0 0 0 0 0 0 0 0 0 0 0 0 0 0\n",
            " 0 0 0 0 0 0 0 0 0 0 0 0 0 0 0 0 0 0 0 0 0 0 0 0 0 0 0 0 0 0 0 0 0 0 0 0 0\n",
            " 0 0 0 0 0 0 0 0 0 0 0 0 0 0 0 0 0 0 0 0 0 0 0 0 0 0 0 0 0 0 0 0 0 0 0 0 5\n",
            " 6]\n"
          ]
        }
      ],
      "source": [
        "# pad sequences\n",
        "max_sequence_len = max([len(x) for x in input_sequences])\n",
        "print(f\"{max_sequence_len=}\")\n",
        "input_sequences = np.array(pad_sequences(input_sequences, maxlen=max_sequence_len, padding='pre'))\n",
        "print(input_sequences[0])"
      ]
    },
    {
      "cell_type": "markdown",
      "metadata": {
        "id": "FK4VQkxHKoj8"
      },
      "source": [
        "# Подготовка данных для обучения XY\n",
        "\n",
        "Здесь необходимо рассматривать **последний элемент всех последовательностей как метку**. Далее, необходимо выполнить **onehot encoding меток, соответствующих total_words**."
      ]
    },
    {
      "cell_type": "code",
      "execution_count": 12,
      "metadata": {
        "colab": {
          "base_uri": "https://localhost:8080/"
        },
        "id": "pTE-9efLKoj9",
        "outputId": "b31e6ba8-2b13-423c-bb59-2ade577b8e72"
      },
      "outputs": [
        {
          "output_type": "stream",
          "name": "stdout",
          "text": [
            "-----------------------------------------\n",
            "Number of train records:  2370\n",
            "Number of test records:  242\n",
            "Number of val records:  242\n",
            "-----------------------------------------\n"
          ]
        }
      ],
      "source": [
        "# create features and label\n",
        "xs, labels = input_sequences[:,:-1], input_sequences[:,-1]\n",
        "ys = tf.keras.utils.to_categorical(labels, num_classes=total_words)\n",
        "#print(\"Number of all records: \", xs.shape[0])\n",
        "\n",
        "# shuffle\n",
        "#np.random.shuffle(input_sequences)\n",
        "\n",
        "# split to train and test data\n",
        "split_index = int(0.9 * len(xs)); #print(f\"{split_index=}\")\n",
        "split_index2 = int(0.98 * len(xs)); #print(f\"{split_index=}\")\n",
        "xs_train, ys_train = xs[:split_index2], ys[:split_index2]\n",
        "xs_test, ys_test = xs[split_index:], ys[split_index:]\n",
        "xs_val, ys_val = xs[split_index:], ys[split_index:]\n",
        "print(\"-----------------------------------------\")\n",
        "print(\"Number of train records: \", xs_train.shape[0])\n",
        "print(\"Number of test records: \", xs_test.shape[0])\n",
        "print(\"Number of val records: \", xs_val.shape[0])\n",
        "print(\"-----------------------------------------\")"
      ]
    },
    {
      "cell_type": "code",
      "execution_count": 13,
      "metadata": {
        "colab": {
          "base_uri": "https://localhost:8080/"
        },
        "id": "FxdmmT-sKoj9",
        "outputId": "80ce0fd5-d34b-48aa-dd7d-8ff6958e6df0"
      },
      "outputs": [
        {
          "output_type": "stream",
          "name": "stdout",
          "text": [
            "xs[0] = [0 0 0 0 0 0 0 0 0 0 0 0 0 0 0 0 0 0 0 0 0 0 0 0 0 0 0 0 0 0 0 0 0 0 0 0 0\n",
            " 0 0 0 0 0 0 0 0 0 0 0 0 0 0 0 0 0 0 0 0 0 0 0 0 0 0 0 0 0 0 0 0 0 0 0 0 0\n",
            " 0 0 0 0 0 0 0 0 0 0 0 0 0 0 0 0 0 0 0 0 0 0 0 0 0 0 0 0 0 0 0 0 0 0 0 0 0\n",
            " 0 0 0 0 0 0 0 0 0 0 0 0 0 0 0 0 0 0 0 0 0 0 0 0 0 0 0 0 0 0 0 0 0 0 0 0 0\n",
            " 0 0 0 0 0 0 0 0 0 0 0 0 0 0 0 0 0 0 0 0 0 0 0 0 0 0 0 0 0 0 0 0 0 0 0 0 0\n",
            " 0 0 0 0 0 0 0 0 0 0 0 0 0 0 0 0 0 0 0 0 0 0 0 0 0 0 0 0 0 0 0 0 0 0 0 0 0\n",
            " 0 0 0 0 0 0 0 0 0 0 0 0 0 0 0 0 0 0 0 0 0 0 0 0 0 0 0 0 0 0 0 0 0 0 0 0 0\n",
            " 0 0 0 0 0 0 0 0 0 0 0 0 0 0 0 0 0 0 0 0 0 0 0 0 0 0 0 0 0 0 0 0 0 0 0 0 0\n",
            " 0 0 0 0 0 0 0 0 0 0 0 0 0 0 0 0 0 0 0 0 0 0 0 0 0 0 0 0 0 0 0 0 0 0 0 0 0\n",
            " 0 0 0 0 0 0 0 0 0 0 0 0 0 0 0 0 0 0 0 0 0 0 0 0 0 0 0 0 0 0 0 0 0 0 0 0 0\n",
            " 0 0 0 0 0 0 0 0 0 0 0 0 0 0 0 0 0 0 0 0 0 0 0 0 0 0 0 0 0 0 0 0 0 0 0 0 0\n",
            " 0 0 0 0 0 0 0 0 0 0 0 0 0 0 0 0 0 0 0 0 0 0 0 0 0 0 0 0 0 0 0 0 0 0 0 0 0\n",
            " 0 0 0 0 0 0 0 0 0 0 0 0 0 0 0 0 0 0 0 0 0 0 0 0 0 0 0 0 0 0 0 0 0 0 0 0 0\n",
            " 0 0 0 0 0 0 0 0 0 0 0 0 0 0 0 0 0 0 0 0 0 0 0 0 0 0 0 0 0 0 0 0 0 0 0 0 0\n",
            " 0 0 0 0 0 0 0 0 0 0 0 0 0 0 0 0 0 0 0 0 0 0 0 0 0 0 0 0 0 0 0 0 0 0 0 0 0\n",
            " 0 0 0 0 0 0 0 0 0 0 0 0 0 0 0 0 0 0 0 0 0 0 0 0 0 0 0 0 0 0 0 0 0 0 0 0 0\n",
            " 0 0 0 0 0 0 0 0 0 0 0 0 0 0 0 0 0 0 0 0 0 0 0 0 0 0 0 0 0 0 0 0 0 0 0 0 0\n",
            " 0 0 0 0 0 0 0 0 0 0 0 0 0 0 0 0 0 0 0 0 0 0 0 0 0 0 0 0 0 0 0 0 0 0 0 0 0\n",
            " 0 0 0 0 0 0 0 0 0 0 0 0 0 0 0 0 0 0 0 0 0 0 0 0 0 0 0 0 0 0 0 0 0 0 0 0 0\n",
            " 0 0 0 0 0 0 0 0 0 0 0 0 0 0 0 0 0 0 0 0 0 0 0 0 0 0 0 0 0 0 0 0 0 0 0 0 0\n",
            " 0 0 0 0 0 0 0 0 0 0 0 0 0 0 0 0 0 0 0 0 0 0 0 0 0 0 0 0 0 0 0 0 0 0 0 0 0\n",
            " 0 0 0 0 0 0 0 0 0 0 0 0 0 0 0 0 0 0 0 0 0 0 0 0 0 0 0 0 0 0 0 0 0 0 0 0 0\n",
            " 0 0 0 0 0 0 0 0 0 0 0 0 0 0 0 0 0 0 0 0 0 0 0 0 0 0 0 0 0 0 0 0 0 0 0 0 0\n",
            " 0 0 0 0 0 0 0 0 0 0 0 0 0 0 0 0 0 0 0 0 0 0 0 0 0 0 0 0 0 0 0 0 0 0 0 0 0\n",
            " 0 0 0 0 0 0 0 0 0 0 0 0 0 0 0 0 0 0 0 0 0 0 0 0 0 0 0 0 0 0 0 0 0 0 0 0 0\n",
            " 0 0 0 0 0 0 0 0 0 0 0 0 0 0 0 0 0 0 0 0 0 0 0 0 0 0 0 0 0 0 0 0 0 0 0 0 0\n",
            " 0 0 0 0 0 0 0 0 0 0 0 0 0 0 0 0 0 0 0 0 0 0 0 0 0 0 0 0 0 0 0 0 0 0 0 0 5]\n",
            "labels[0] = 6\n",
            "ys[0] = [0. 0. 0. 0. 0. 0. 1. 0. 0. 0. 0. 0. 0. 0. 0. 0. 0. 0. 0. 0. 0. 0. 0. 0.\n",
            " 0. 0. 0. 0. 0. 0. 0. 0. 0. 0. 0. 0. 0. 0. 0. 0. 0. 0. 0. 0. 0. 0. 0. 0.\n",
            " 0. 0. 0. 0. 0. 0. 0. 0. 0. 0. 0. 0. 0. 0. 0. 0. 0. 0. 0. 0. 0. 0. 0. 0.\n",
            " 0. 0. 0. 0. 0. 0. 0. 0. 0. 0. 0. 0. 0. 0. 0.]\n",
            "ys[0][labels[0]]=np.float64(1.0)\n"
          ]
        }
      ],
      "source": [
        "print(\"xs[0] =\", xs_train[0])\n",
        "print(\"labels[0] =\", labels[0])\n",
        "print(\"ys[0] =\", ys[0])\n",
        "print(f\"{ys[0][labels[0]]=}\")"
      ]
    },
    {
      "cell_type": "markdown",
      "metadata": {
        "id": "GwEGRLHJKoj9"
      },
      "source": [
        "# Архитектура нейронной сети LSTM\n",
        "\n",
        "Сети с длинной кратковременной памятью (LSTM) - это передовая рекуррентная нейронная сеть, которая способна хранить состояния порядка, используя свойство состояния ячеек."
      ]
    },
    {
      "cell_type": "markdown",
      "metadata": {
        "id": "Yn-KfrdCKoj9"
      },
      "source": [
        "# LSTM Neural Network Model training"
      ]
    },
    {
      "cell_type": "code",
      "execution_count": null,
      "metadata": {
        "colab": {
          "base_uri": "https://localhost:8080/",
          "height": 35
        },
        "id": "75XFpUAbxyQt",
        "outputId": "1d73163e-8d5f-47a0-dce8-4c3abb33a102"
      },
      "outputs": [
        {
          "data": {
            "application/vnd.google.colaboratory.intrinsic+json": {
              "type": "string"
            },
            "text/plain": [
              "'\\nmodel = Sequential()\\nmodel.add(Embedding(total_words, 100, input_length=max_sequence_len-1))\\nmodel.add(LSTM(1000, return_sequences=True))\\nmodel.add(LSTM(1000))\\nmodel.add(Dense(1000, activation=\"relu\"))\\nmodel.add(Dense(total_words, activation=\"softmax\"))\\n\\nmodel.summary()\\n'"
            ]
          },
          "execution_count": 26,
          "metadata": {},
          "output_type": "execute_result"
        }
      ],
      "source": [
        "'''\n",
        "model = Sequential()\n",
        "model.add(Embedding(total_words, 100, input_length=max_sequence_len-1))\n",
        "model.add(LSTM(1000, return_sequences=True))\n",
        "model.add(LSTM(1000))\n",
        "model.add(Dense(1000, activation=\"relu\"))\n",
        "model.add(Dense(total_words, activation=\"softmax\"))\n",
        "\n",
        "model.summary()\n",
        "'''"
      ]
    },
    {
      "cell_type": "code",
      "execution_count": null,
      "metadata": {
        "colab": {
          "base_uri": "https://localhost:8080/",
          "height": 70
        },
        "id": "NdaqM6GzyQcy",
        "outputId": "b3e66376-f867-4128-d6d8-681dbfd0259e"
      },
      "outputs": [
        {
          "data": {
            "application/vnd.google.colaboratory.intrinsic+json": {
              "type": "string"
            },
            "text/plain": [
              "'\\nfrom tensorflow.keras.callbacks import ModelCheckpoint\\n\\ncheckpoint = ModelCheckpoint(\"next_words.tf\", monitor=\\'loss\\', verbose=1, save_best_only=True)\\nmodel.compile(loss=\"categorical_crossentropy\", optimizer=Adam(learning_rate=0.01), metrics=[\\'accuracy\\'])\\nhistory = model.fit(xs, ys, epochs=32, verbose=1, callbacks=[checkpoint])\\nmodel.save(\"next_words.keras\")\\n'"
            ]
          },
          "execution_count": 15,
          "metadata": {},
          "output_type": "execute_result"
        }
      ],
      "source": [
        "'''\n",
        "from tensorflow.keras.callbacks import ModelCheckpoint\n",
        "\n",
        "checkpoint = ModelCheckpoint(\"next_words.tf\", monitor='loss', verbose=1, save_best_only=True)\n",
        "model.compile(loss=\"categorical_crossentropy\", optimizer=Adam(learning_rate=0.01), metrics=['accuracy'])\n",
        "history = model.fit(xs, ys, epochs=32, verbose=1, callbacks=[checkpoint])\n",
        "model.save(\"next_words.keras\")\n",
        "'''"
      ]
    },
    {
      "cell_type": "code",
      "execution_count": null,
      "metadata": {
        "colab": {
          "base_uri": "https://localhost:8080/",
          "height": 87
        },
        "id": "4rU_Z1r9Koj9",
        "outputId": "72193a3a-5667-4ce9-a4c5-0a80b9878f6c"
      },
      "outputs": [
        {
          "data": {
            "application/vnd.google.colaboratory.intrinsic+json": {
              "type": "string"
            },
            "text/plain": [
              "'\\nmodel = Sequential()\\nmodel.add(Embedding(total_words, 100, input_length=max_sequence_len-1))\\nmodel.add(Bidirectional(LSTM(150)))\\nmodel.add(Dense(total_words, activation=\\'softmax\\'))\\nadam = Adam(learning_rate=0.01)\\nmodel.compile(loss=\\'categorical_crossentropy\\', optimizer=adam, metrics=[\\'accuracy\\'])\\n\\nfrom tensorflow.keras.callbacks import ModelCheckpoint\\ncheckpoint = ModelCheckpoint(\"next_words.h5\", monitor=\\'loss\\', verbose=1, save_best_only=True)\\nhistory = model.fit(xs, ys, epochs=50, verbose=1, callbacks=[checkpoint])\\n#print model.summary()\\nprint(model)\\n'"
            ]
          },
          "execution_count": 21,
          "metadata": {},
          "output_type": "execute_result"
        }
      ],
      "source": [
        "'''\n",
        "model = Sequential()\n",
        "model.add(Embedding(total_words, 100, input_length=max_sequence_len-1))\n",
        "model.add(Bidirectional(LSTM(150)))\n",
        "model.add(Dense(total_words, activation='softmax'))\n",
        "adam = Adam(learning_rate=0.01)\n",
        "model.compile(loss='categorical_crossentropy', optimizer=adam, metrics=['accuracy'])\n",
        "\n",
        "from tensorflow.keras.callbacks import ModelCheckpoint\n",
        "checkpoint = ModelCheckpoint(\"next_words.h5\", monitor='loss', verbose=1, save_best_only=True)\n",
        "history = model.fit(xs, ys, epochs=50, verbose=1, callbacks=[checkpoint])\n",
        "#print model.summary()\n",
        "print(model)\n",
        "'''"
      ]
    },
    {
      "cell_type": "code",
      "execution_count": 14,
      "metadata": {
        "id": "K-90fk6rNf9J",
        "colab": {
          "base_uri": "https://localhost:8080/"
        },
        "outputId": "135a18eb-4842-4003-a14d-0c7a1eace9ea"
      },
      "outputs": [
        {
          "output_type": "stream",
          "name": "stdout",
          "text": [
            "Name: /physical_device:CPU:0   Type: CPU\n",
            "Name: /physical_device:GPU:0   Type: GPU\n"
          ]
        }
      ],
      "source": [
        "# Проверка доступных устройств\n",
        "gpus = tf.config.list_physical_devices()\n",
        "for gpu in gpus:\n",
        "    print(\"Name:\", gpu.name, \"  Type:\", gpu.device_type)"
      ]
    },
    {
      "cell_type": "code",
      "execution_count": 15,
      "metadata": {
        "id": "RfBacBSRnouw"
      },
      "outputs": [],
      "source": [
        "from tensorflow.keras.callbacks import ModelCheckpoint"
      ]
    },
    {
      "cell_type": "code",
      "execution_count": 16,
      "metadata": {
        "id": "nGQ0PfhYnCKV",
        "colab": {
          "base_uri": "https://localhost:8080/",
          "height": 1000
        },
        "outputId": "d19de12a-3ad2-4a23-bef2-34f2868437b9"
      },
      "outputs": [
        {
          "output_type": "stream",
          "name": "stdout",
          "text": [
            "Epoch 1/60\n"
          ]
        },
        {
          "output_type": "stream",
          "name": "stderr",
          "text": [
            "/usr/local/lib/python3.11/dist-packages/keras/src/layers/core/embedding.py:90: UserWarning: Argument `input_length` is deprecated. Just remove it.\n",
            "  warnings.warn(\n"
          ]
        },
        {
          "output_type": "stream",
          "name": "stdout",
          "text": [
            "\u001b[1m75/75\u001b[0m \u001b[32m━━━━━━━━━━━━━━━━━━━━\u001b[0m\u001b[37m\u001b[0m \u001b[1m0s\u001b[0m 78ms/step - accuracy: 0.2417 - loss: 3.0768\n",
            "Epoch 1: loss improved from inf to 2.62389, saving model to c:\n",
            "ext_commands.keras\n",
            "\u001b[1m75/75\u001b[0m \u001b[32m━━━━━━━━━━━━━━━━━━━━\u001b[0m\u001b[37m\u001b[0m \u001b[1m13s\u001b[0m 89ms/step - accuracy: 0.2427 - loss: 3.0709 - val_accuracy: 0.2727 - val_loss: 2.8932\n",
            "Epoch 2/60\n",
            "\u001b[1m75/75\u001b[0m \u001b[32m━━━━━━━━━━━━━━━━━━━━\u001b[0m\u001b[37m\u001b[0m \u001b[1m0s\u001b[0m 76ms/step - accuracy: 0.3937 - loss: 2.1472\n",
            "Epoch 2: loss improved from 2.62389 to 2.08666, saving model to c:\n",
            "ext_commands.keras\n",
            "\u001b[1m75/75\u001b[0m \u001b[32m━━━━━━━━━━━━━━━━━━━━\u001b[0m\u001b[37m\u001b[0m \u001b[1m6s\u001b[0m 82ms/step - accuracy: 0.3939 - loss: 2.1464 - val_accuracy: 0.4215 - val_loss: 2.3179\n",
            "Epoch 3/60\n",
            "\u001b[1m75/75\u001b[0m \u001b[32m━━━━━━━━━━━━━━━━━━━━\u001b[0m\u001b[37m\u001b[0m \u001b[1m0s\u001b[0m 75ms/step - accuracy: 0.4560 - loss: 1.8943\n",
            "Epoch 3: loss improved from 2.08666 to 1.85994, saving model to c:\n",
            "ext_commands.keras\n",
            "\u001b[1m75/75\u001b[0m \u001b[32m━━━━━━━━━━━━━━━━━━━━\u001b[0m\u001b[37m\u001b[0m \u001b[1m10s\u001b[0m 81ms/step - accuracy: 0.4561 - loss: 1.8938 - val_accuracy: 0.4876 - val_loss: 2.0131\n",
            "Epoch 4/60\n",
            "\u001b[1m75/75\u001b[0m \u001b[32m━━━━━━━━━━━━━━━━━━━━\u001b[0m\u001b[37m\u001b[0m \u001b[1m0s\u001b[0m 81ms/step - accuracy: 0.4925 - loss: 1.7852\n",
            "Epoch 4: loss improved from 1.85994 to 1.73482, saving model to c:\n",
            "ext_commands.keras\n",
            "\u001b[1m75/75\u001b[0m \u001b[32m━━━━━━━━━━━━━━━━━━━━\u001b[0m\u001b[37m\u001b[0m \u001b[1m11s\u001b[0m 86ms/step - accuracy: 0.4930 - loss: 1.7845 - val_accuracy: 0.5289 - val_loss: 1.8426\n",
            "Epoch 5/60\n",
            "\u001b[1m75/75\u001b[0m \u001b[32m━━━━━━━━━━━━━━━━━━━━\u001b[0m\u001b[37m\u001b[0m \u001b[1m0s\u001b[0m 75ms/step - accuracy: 0.5440 - loss: 1.7131\n",
            "Epoch 5: loss improved from 1.73482 to 1.65308, saving model to c:\n",
            "ext_commands.keras\n",
            "\u001b[1m75/75\u001b[0m \u001b[32m━━━━━━━━━━━━━━━━━━━━\u001b[0m\u001b[37m\u001b[0m \u001b[1m10s\u001b[0m 80ms/step - accuracy: 0.5442 - loss: 1.7123 - val_accuracy: 0.5413 - val_loss: 1.6812\n",
            "Epoch 6/60\n",
            "\u001b[1m75/75\u001b[0m \u001b[32m━━━━━━━━━━━━━━━━━━━━\u001b[0m\u001b[37m\u001b[0m \u001b[1m0s\u001b[0m 77ms/step - accuracy: 0.5891 - loss: 1.5843\n",
            "Epoch 6: loss improved from 1.65308 to 1.59156, saving model to c:\n",
            "ext_commands.keras\n",
            "\u001b[1m75/75\u001b[0m \u001b[32m━━━━━━━━━━━━━━━━━━━━\u001b[0m\u001b[37m\u001b[0m \u001b[1m10s\u001b[0m 82ms/step - accuracy: 0.5889 - loss: 1.5844 - val_accuracy: 0.5331 - val_loss: 1.6807\n",
            "Epoch 7/60\n",
            "\u001b[1m75/75\u001b[0m \u001b[32m━━━━━━━━━━━━━━━━━━━━\u001b[0m\u001b[37m\u001b[0m \u001b[1m0s\u001b[0m 79ms/step - accuracy: 0.5811 - loss: 1.5666\n",
            "Epoch 7: loss improved from 1.59156 to 1.53721, saving model to c:\n",
            "ext_commands.keras\n",
            "\u001b[1m75/75\u001b[0m \u001b[32m━━━━━━━━━━━━━━━━━━━━\u001b[0m\u001b[37m\u001b[0m \u001b[1m10s\u001b[0m 85ms/step - accuracy: 0.5811 - loss: 1.5662 - val_accuracy: 0.5785 - val_loss: 1.4750\n",
            "Epoch 8/60\n",
            "\u001b[1m75/75\u001b[0m \u001b[32m━━━━━━━━━━━━━━━━━━━━\u001b[0m\u001b[37m\u001b[0m \u001b[1m0s\u001b[0m 80ms/step - accuracy: 0.5728 - loss: 1.4854\n",
            "Epoch 8: loss improved from 1.53721 to 1.45618, saving model to c:\n",
            "ext_commands.keras\n",
            "\u001b[1m75/75\u001b[0m \u001b[32m━━━━━━━━━━━━━━━━━━━━\u001b[0m\u001b[37m\u001b[0m \u001b[1m10s\u001b[0m 85ms/step - accuracy: 0.5730 - loss: 1.4850 - val_accuracy: 0.5661 - val_loss: 1.5688\n",
            "Epoch 9/60\n",
            "\u001b[1m75/75\u001b[0m \u001b[32m━━━━━━━━━━━━━━━━━━━━\u001b[0m\u001b[37m\u001b[0m \u001b[1m0s\u001b[0m 79ms/step - accuracy: 0.5732 - loss: 1.4474\n",
            "Epoch 9: loss improved from 1.45618 to 1.41489, saving model to c:\n",
            "ext_commands.keras\n",
            "\u001b[1m75/75\u001b[0m \u001b[32m━━━━━━━━━━━━━━━━━━━━\u001b[0m\u001b[37m\u001b[0m \u001b[1m10s\u001b[0m 84ms/step - accuracy: 0.5735 - loss: 1.4470 - val_accuracy: 0.5207 - val_loss: 1.5166\n",
            "Epoch 10/60\n",
            "\u001b[1m75/75\u001b[0m \u001b[32m━━━━━━━━━━━━━━━━━━━━\u001b[0m\u001b[37m\u001b[0m \u001b[1m0s\u001b[0m 75ms/step - accuracy: 0.5851 - loss: 1.4373\n",
            "Epoch 10: loss improved from 1.41489 to 1.39567, saving model to c:\n",
            "ext_commands.keras\n",
            "\u001b[1m75/75\u001b[0m \u001b[32m━━━━━━━━━━━━━━━━━━━━\u001b[0m\u001b[37m\u001b[0m \u001b[1m10s\u001b[0m 80ms/step - accuracy: 0.5854 - loss: 1.4368 - val_accuracy: 0.5826 - val_loss: 1.4564\n",
            "Epoch 11/60\n",
            "\u001b[1m75/75\u001b[0m \u001b[32m━━━━━━━━━━━━━━━━━━━━\u001b[0m\u001b[37m\u001b[0m \u001b[1m0s\u001b[0m 77ms/step - accuracy: 0.6143 - loss: 1.3273\n",
            "Epoch 11: loss improved from 1.39567 to 1.33334, saving model to c:\n",
            "ext_commands.keras\n",
            "\u001b[1m75/75\u001b[0m \u001b[32m━━━━━━━━━━━━━━━━━━━━\u001b[0m\u001b[37m\u001b[0m \u001b[1m6s\u001b[0m 81ms/step - accuracy: 0.6144 - loss: 1.3274 - val_accuracy: 0.6446 - val_loss: 1.2871\n",
            "Epoch 12/60\n",
            "\u001b[1m75/75\u001b[0m \u001b[32m━━━━━━━━━━━━━━━━━━━━\u001b[0m\u001b[37m\u001b[0m \u001b[1m0s\u001b[0m 78ms/step - accuracy: 0.6083 - loss: 1.2891\n",
            "Epoch 12: loss improved from 1.33334 to 1.33135, saving model to c:\n",
            "ext_commands.keras\n",
            "\u001b[1m75/75\u001b[0m \u001b[32m━━━━━━━━━━━━━━━━━━━━\u001b[0m\u001b[37m\u001b[0m \u001b[1m10s\u001b[0m 83ms/step - accuracy: 0.6083 - loss: 1.2896 - val_accuracy: 0.6157 - val_loss: 1.4640\n",
            "Epoch 13/60\n",
            "\u001b[1m75/75\u001b[0m \u001b[32m━━━━━━━━━━━━━━━━━━━━\u001b[0m\u001b[37m\u001b[0m \u001b[1m0s\u001b[0m 76ms/step - accuracy: 0.6528 - loss: 1.2378\n",
            "Epoch 13: loss improved from 1.33135 to 1.31553, saving model to c:\n",
            "ext_commands.keras\n",
            "\u001b[1m75/75\u001b[0m \u001b[32m━━━━━━━━━━━━━━━━━━━━\u001b[0m\u001b[37m\u001b[0m \u001b[1m6s\u001b[0m 80ms/step - accuracy: 0.6524 - loss: 1.2389 - val_accuracy: 0.6612 - val_loss: 1.2110\n",
            "Epoch 14/60\n",
            "\u001b[1m75/75\u001b[0m \u001b[32m━━━━━━━━━━━━━━━━━━━━\u001b[0m\u001b[37m\u001b[0m \u001b[1m0s\u001b[0m 78ms/step - accuracy: 0.6127 - loss: 1.2856\n",
            "Epoch 14: loss improved from 1.31553 to 1.29395, saving model to c:\n",
            "ext_commands.keras\n",
            "\u001b[1m75/75\u001b[0m \u001b[32m━━━━━━━━━━━━━━━━━━━━\u001b[0m\u001b[37m\u001b[0m \u001b[1m10s\u001b[0m 82ms/step - accuracy: 0.6127 - loss: 1.2857 - val_accuracy: 0.6405 - val_loss: 1.3641\n",
            "Epoch 15/60\n",
            "\u001b[1m75/75\u001b[0m \u001b[32m━━━━━━━━━━━━━━━━━━━━\u001b[0m\u001b[37m\u001b[0m \u001b[1m0s\u001b[0m 79ms/step - accuracy: 0.6245 - loss: 1.2711\n",
            "Epoch 15: loss improved from 1.29395 to 1.27567, saving model to c:\n",
            "ext_commands.keras\n",
            "\u001b[1m75/75\u001b[0m \u001b[32m━━━━━━━━━━━━━━━━━━━━\u001b[0m\u001b[37m\u001b[0m \u001b[1m10s\u001b[0m 84ms/step - accuracy: 0.6246 - loss: 1.2711 - val_accuracy: 0.6612 - val_loss: 1.2754\n",
            "Epoch 16/60\n",
            "\u001b[1m75/75\u001b[0m \u001b[32m━━━━━━━━━━━━━━━━━━━━\u001b[0m\u001b[37m\u001b[0m \u001b[1m0s\u001b[0m 80ms/step - accuracy: 0.6466 - loss: 1.1854\n",
            "Epoch 16: loss improved from 1.27567 to 1.26508, saving model to c:\n",
            "ext_commands.keras\n",
            "\u001b[1m75/75\u001b[0m \u001b[32m━━━━━━━━━━━━━━━━━━━━\u001b[0m\u001b[37m\u001b[0m \u001b[1m10s\u001b[0m 85ms/step - accuracy: 0.6464 - loss: 1.1865 - val_accuracy: 0.6405 - val_loss: 1.2228\n",
            "Epoch 17/60\n",
            "\u001b[1m75/75\u001b[0m \u001b[32m━━━━━━━━━━━━━━━━━━━━\u001b[0m\u001b[37m\u001b[0m \u001b[1m0s\u001b[0m 81ms/step - accuracy: 0.6427 - loss: 1.1876\n",
            "Epoch 17: loss improved from 1.26508 to 1.23326, saving model to c:\n",
            "ext_commands.keras\n",
            "\u001b[1m75/75\u001b[0m \u001b[32m━━━━━━━━━━━━━━━━━━━━\u001b[0m\u001b[37m\u001b[0m \u001b[1m10s\u001b[0m 85ms/step - accuracy: 0.6426 - loss: 1.1882 - val_accuracy: 0.6570 - val_loss: 1.1746\n",
            "Epoch 18/60\n",
            "\u001b[1m75/75\u001b[0m \u001b[32m━━━━━━━━━━━━━━━━━━━━\u001b[0m\u001b[37m\u001b[0m \u001b[1m0s\u001b[0m 81ms/step - accuracy: 0.6585 - loss: 1.1364\n",
            "Epoch 18: loss improved from 1.23326 to 1.18681, saving model to c:\n",
            "ext_commands.keras\n",
            "\u001b[1m75/75\u001b[0m \u001b[32m━━━━━━━━━━━━━━━━━━━━\u001b[0m\u001b[37m\u001b[0m \u001b[1m10s\u001b[0m 87ms/step - accuracy: 0.6583 - loss: 1.1370 - val_accuracy: 0.5661 - val_loss: 1.5550\n",
            "Epoch 19/60\n",
            "\u001b[1m75/75\u001b[0m \u001b[32m━━━━━━━━━━━━━━━━━━━━\u001b[0m\u001b[37m\u001b[0m \u001b[1m0s\u001b[0m 81ms/step - accuracy: 0.6700 - loss: 1.1037\n",
            "Epoch 19: loss improved from 1.18681 to 1.15408, saving model to c:\n",
            "ext_commands.keras\n",
            "\u001b[1m75/75\u001b[0m \u001b[32m━━━━━━━━━━━━━━━━━━━━\u001b[0m\u001b[37m\u001b[0m \u001b[1m10s\u001b[0m 86ms/step - accuracy: 0.6698 - loss: 1.1044 - val_accuracy: 0.6653 - val_loss: 1.2036\n",
            "Epoch 20/60\n",
            "\u001b[1m75/75\u001b[0m \u001b[32m━━━━━━━━━━━━━━━━━━━━\u001b[0m\u001b[37m\u001b[0m \u001b[1m0s\u001b[0m 81ms/step - accuracy: 0.6495 - loss: 1.1194\n",
            "Epoch 20: loss improved from 1.15408 to 1.10715, saving model to c:\n",
            "ext_commands.keras\n",
            "\u001b[1m75/75\u001b[0m \u001b[32m━━━━━━━━━━━━━━━━━━━━\u001b[0m\u001b[37m\u001b[0m \u001b[1m10s\u001b[0m 86ms/step - accuracy: 0.6496 - loss: 1.1193 - val_accuracy: 0.6198 - val_loss: 1.2272\n",
            "Epoch 21/60\n",
            "\u001b[1m75/75\u001b[0m \u001b[32m━━━━━━━━━━━━━━━━━━━━\u001b[0m\u001b[37m\u001b[0m \u001b[1m0s\u001b[0m 82ms/step - accuracy: 0.6780 - loss: 1.0429\n",
            "Epoch 21: loss improved from 1.10715 to 1.08054, saving model to c:\n",
            "ext_commands.keras\n",
            "\u001b[1m75/75\u001b[0m \u001b[32m━━━━━━━━━━━━━━━━━━━━\u001b[0m\u001b[37m\u001b[0m \u001b[1m10s\u001b[0m 86ms/step - accuracy: 0.6778 - loss: 1.0434 - val_accuracy: 0.6529 - val_loss: 1.1851\n",
            "Epoch 22/60\n",
            "\u001b[1m75/75\u001b[0m \u001b[32m━━━━━━━━━━━━━━━━━━━━\u001b[0m\u001b[37m\u001b[0m \u001b[1m0s\u001b[0m 81ms/step - accuracy: 0.6789 - loss: 1.0243\n",
            "Epoch 22: loss did not improve from 1.08054\n",
            "\u001b[1m75/75\u001b[0m \u001b[32m━━━━━━━━━━━━━━━━━━━━\u001b[0m\u001b[37m\u001b[0m \u001b[1m6s\u001b[0m 85ms/step - accuracy: 0.6786 - loss: 1.0252 - val_accuracy: 0.7025 - val_loss: 1.0985\n",
            "Epoch 23/60\n",
            "\u001b[1m75/75\u001b[0m \u001b[32m━━━━━━━━━━━━━━━━━━━━\u001b[0m\u001b[37m\u001b[0m \u001b[1m0s\u001b[0m 81ms/step - accuracy: 0.6881 - loss: 1.0106\n",
            "Epoch 23: loss improved from 1.08054 to 1.02243, saving model to c:\n",
            "ext_commands.keras\n",
            "\u001b[1m75/75\u001b[0m \u001b[32m━━━━━━━━━━━━━━━━━━━━\u001b[0m\u001b[37m\u001b[0m \u001b[1m10s\u001b[0m 86ms/step - accuracy: 0.6880 - loss: 1.0107 - val_accuracy: 0.7190 - val_loss: 1.0406\n",
            "Epoch 24/60\n",
            "\u001b[1m75/75\u001b[0m \u001b[32m━━━━━━━━━━━━━━━━━━━━\u001b[0m\u001b[37m\u001b[0m \u001b[1m0s\u001b[0m 85ms/step - accuracy: 0.6879 - loss: 0.9591\n",
            "Epoch 24: loss improved from 1.02243 to 1.00253, saving model to c:\n",
            "ext_commands.keras\n",
            "\u001b[1m75/75\u001b[0m \u001b[32m━━━━━━━━━━━━━━━━━━━━\u001b[0m\u001b[37m\u001b[0m \u001b[1m7s\u001b[0m 89ms/step - accuracy: 0.6879 - loss: 0.9597 - val_accuracy: 0.7025 - val_loss: 1.1161\n",
            "Epoch 25/60\n",
            "\u001b[1m75/75\u001b[0m \u001b[32m━━━━━━━━━━━━━━━━━━━━\u001b[0m\u001b[37m\u001b[0m \u001b[1m0s\u001b[0m 84ms/step - accuracy: 0.6594 - loss: 1.0706\n",
            "Epoch 25: loss did not improve from 1.00253\n",
            "\u001b[1m75/75\u001b[0m \u001b[32m━━━━━━━━━━━━━━━━━━━━\u001b[0m\u001b[37m\u001b[0m \u001b[1m10s\u001b[0m 89ms/step - accuracy: 0.6595 - loss: 1.0703 - val_accuracy: 0.7273 - val_loss: 1.0642\n",
            "Epoch 26/60\n",
            "\u001b[1m75/75\u001b[0m \u001b[32m━━━━━━━━━━━━━━━━━━━━\u001b[0m\u001b[37m\u001b[0m \u001b[1m0s\u001b[0m 84ms/step - accuracy: 0.7141 - loss: 0.9066\n",
            "Epoch 26: loss improved from 1.00253 to 0.97576, saving model to c:\n",
            "ext_commands.keras\n",
            "\u001b[1m75/75\u001b[0m \u001b[32m━━━━━━━━━━━━━━━━━━━━\u001b[0m\u001b[37m\u001b[0m \u001b[1m10s\u001b[0m 89ms/step - accuracy: 0.7137 - loss: 0.9075 - val_accuracy: 0.6901 - val_loss: 1.1554\n",
            "Epoch 27/60\n",
            "\u001b[1m75/75\u001b[0m \u001b[32m━━━━━━━━━━━━━━━━━━━━\u001b[0m\u001b[37m\u001b[0m \u001b[1m0s\u001b[0m 82ms/step - accuracy: 0.7074 - loss: 0.9380\n",
            "Epoch 27: loss did not improve from 0.97576\n",
            "\u001b[1m75/75\u001b[0m \u001b[32m━━━━━━━━━━━━━━━━━━━━\u001b[0m\u001b[37m\u001b[0m \u001b[1m6s\u001b[0m 85ms/step - accuracy: 0.7072 - loss: 0.9386 - val_accuracy: 0.7107 - val_loss: 1.1277\n",
            "Epoch 28/60\n",
            "\u001b[1m75/75\u001b[0m \u001b[32m━━━━━━━━━━━━━━━━━━━━\u001b[0m\u001b[37m\u001b[0m \u001b[1m0s\u001b[0m 81ms/step - accuracy: 0.6850 - loss: 0.9321\n",
            "Epoch 28: loss improved from 0.97576 to 0.97354, saving model to c:\n",
            "ext_commands.keras\n",
            "\u001b[1m75/75\u001b[0m \u001b[32m━━━━━━━━━━━━━━━━━━━━\u001b[0m\u001b[37m\u001b[0m \u001b[1m10s\u001b[0m 86ms/step - accuracy: 0.6850 - loss: 0.9326 - val_accuracy: 0.6529 - val_loss: 1.4049\n",
            "Epoch 29/60\n",
            "\u001b[1m75/75\u001b[0m \u001b[32m━━━━━━━━━━━━━━━━━━━━\u001b[0m\u001b[37m\u001b[0m \u001b[1m0s\u001b[0m 81ms/step - accuracy: 0.7112 - loss: 0.9055\n",
            "Epoch 29: loss improved from 0.97354 to 0.93310, saving model to c:\n",
            "ext_commands.keras\n",
            "\u001b[1m75/75\u001b[0m \u001b[32m━━━━━━━━━━━━━━━━━━━━\u001b[0m\u001b[37m\u001b[0m \u001b[1m6s\u001b[0m 86ms/step - accuracy: 0.7111 - loss: 0.9059 - val_accuracy: 0.7066 - val_loss: 1.1576\n",
            "Epoch 30/60\n",
            "\u001b[1m75/75\u001b[0m \u001b[32m━━━━━━━━━━━━━━━━━━━━\u001b[0m\u001b[37m\u001b[0m \u001b[1m0s\u001b[0m 81ms/step - accuracy: 0.6899 - loss: 0.9938\n",
            "Epoch 30: loss did not improve from 0.93310\n",
            "\u001b[1m75/75\u001b[0m \u001b[32m━━━━━━━━━━━━━━━━━━━━\u001b[0m\u001b[37m\u001b[0m \u001b[1m6s\u001b[0m 85ms/step - accuracy: 0.6898 - loss: 0.9941 - val_accuracy: 0.7066 - val_loss: 1.1820\n",
            "Epoch 31/60\n",
            "\u001b[1m75/75\u001b[0m \u001b[32m━━━━━━━━━━━━━━━━━━━━\u001b[0m\u001b[37m\u001b[0m \u001b[1m0s\u001b[0m 81ms/step - accuracy: 0.7302 - loss: 0.8497\n",
            "Epoch 31: loss improved from 0.93310 to 0.91954, saving model to c:\n",
            "ext_commands.keras\n",
            "\u001b[1m75/75\u001b[0m \u001b[32m━━━━━━━━━━━━━━━━━━━━\u001b[0m\u001b[37m\u001b[0m \u001b[1m10s\u001b[0m 86ms/step - accuracy: 0.7298 - loss: 0.8507 - val_accuracy: 0.7149 - val_loss: 1.1060\n",
            "Epoch 32/60\n",
            "\u001b[1m75/75\u001b[0m \u001b[32m━━━━━━━━━━━━━━━━━━━━\u001b[0m\u001b[37m\u001b[0m \u001b[1m0s\u001b[0m 80ms/step - accuracy: 0.7247 - loss: 0.8397\n",
            "Epoch 32: loss improved from 0.91954 to 0.87114, saving model to c:\n",
            "ext_commands.keras\n",
            "\u001b[1m75/75\u001b[0m \u001b[32m━━━━━━━━━━━━━━━━━━━━\u001b[0m\u001b[37m\u001b[0m \u001b[1m10s\u001b[0m 84ms/step - accuracy: 0.7246 - loss: 0.8401 - val_accuracy: 0.7314 - val_loss: 1.0340\n",
            "Epoch 33/60\n",
            "\u001b[1m75/75\u001b[0m \u001b[32m━━━━━━━━━━━━━━━━━━━━\u001b[0m\u001b[37m\u001b[0m \u001b[1m0s\u001b[0m 80ms/step - accuracy: 0.7524 - loss: 0.7683\n",
            "Epoch 33: loss improved from 0.87114 to 0.84490, saving model to c:\n",
            "ext_commands.keras\n",
            "\u001b[1m75/75\u001b[0m \u001b[32m━━━━━━━━━━━━━━━━━━━━\u001b[0m\u001b[37m\u001b[0m \u001b[1m10s\u001b[0m 85ms/step - accuracy: 0.7521 - loss: 0.7693 - val_accuracy: 0.6736 - val_loss: 1.2502\n",
            "Epoch 34/60\n",
            "\u001b[1m75/75\u001b[0m \u001b[32m━━━━━━━━━━━━━━━━━━━━\u001b[0m\u001b[37m\u001b[0m \u001b[1m0s\u001b[0m 80ms/step - accuracy: 0.7594 - loss: 0.7836\n",
            "Epoch 34: loss improved from 0.84490 to 0.79886, saving model to c:\n",
            "ext_commands.keras\n",
            "\u001b[1m75/75\u001b[0m \u001b[32m━━━━━━━━━━━━━━━━━━━━\u001b[0m\u001b[37m\u001b[0m \u001b[1m6s\u001b[0m 85ms/step - accuracy: 0.7593 - loss: 0.7838 - val_accuracy: 0.7521 - val_loss: 0.9891\n",
            "Epoch 35/60\n",
            "\u001b[1m75/75\u001b[0m \u001b[32m━━━━━━━━━━━━━━━━━━━━\u001b[0m\u001b[37m\u001b[0m \u001b[1m0s\u001b[0m 80ms/step - accuracy: 0.7467 - loss: 0.7781\n",
            "Epoch 35: loss improved from 0.79886 to 0.76430, saving model to c:\n",
            "ext_commands.keras\n",
            "\u001b[1m75/75\u001b[0m \u001b[32m━━━━━━━━━━━━━━━━━━━━\u001b[0m\u001b[37m\u001b[0m \u001b[1m10s\u001b[0m 85ms/step - accuracy: 0.7468 - loss: 0.7779 - val_accuracy: 0.7273 - val_loss: 1.1334\n",
            "Epoch 36/60\n",
            "\u001b[1m75/75\u001b[0m \u001b[32m━━━━━━━━━━━━━━━━━━━━\u001b[0m\u001b[37m\u001b[0m \u001b[1m0s\u001b[0m 80ms/step - accuracy: 0.7876 - loss: 0.6826\n",
            "Epoch 36: loss improved from 0.76430 to 0.74433, saving model to c:\n",
            "ext_commands.keras\n",
            "\u001b[1m75/75\u001b[0m \u001b[32m━━━━━━━━━━━━━━━━━━━━\u001b[0m\u001b[37m\u001b[0m \u001b[1m10s\u001b[0m 85ms/step - accuracy: 0.7873 - loss: 0.6834 - val_accuracy: 0.7521 - val_loss: 1.0151\n",
            "Epoch 37/60\n",
            "\u001b[1m75/75\u001b[0m \u001b[32m━━━━━━━━━━━━━━━━━━━━\u001b[0m\u001b[37m\u001b[0m \u001b[1m0s\u001b[0m 81ms/step - accuracy: 0.7581 - loss: 0.7583\n",
            "Epoch 37: loss did not improve from 0.74433\n",
            "\u001b[1m75/75\u001b[0m \u001b[32m━━━━━━━━━━━━━━━━━━━━\u001b[0m\u001b[37m\u001b[0m \u001b[1m6s\u001b[0m 85ms/step - accuracy: 0.7581 - loss: 0.7584 - val_accuracy: 0.7314 - val_loss: 1.0331\n",
            "Epoch 38/60\n",
            "\u001b[1m75/75\u001b[0m \u001b[32m━━━━━━━━━━━━━━━━━━━━\u001b[0m\u001b[37m\u001b[0m \u001b[1m0s\u001b[0m 81ms/step - accuracy: 0.7809 - loss: 0.6869\n",
            "Epoch 38: loss improved from 0.74433 to 0.69886, saving model to c:\n",
            "ext_commands.keras\n",
            "\u001b[1m75/75\u001b[0m \u001b[32m━━━━━━━━━━━━━━━━━━━━\u001b[0m\u001b[37m\u001b[0m \u001b[1m6s\u001b[0m 85ms/step - accuracy: 0.7808 - loss: 0.6870 - val_accuracy: 0.7438 - val_loss: 1.0348\n",
            "Epoch 39/60\n",
            "\u001b[1m75/75\u001b[0m \u001b[32m━━━━━━━━━━━━━━━━━━━━\u001b[0m\u001b[37m\u001b[0m \u001b[1m0s\u001b[0m 81ms/step - accuracy: 0.7954 - loss: 0.6176\n",
            "Epoch 39: loss improved from 0.69886 to 0.67971, saving model to c:\n",
            "ext_commands.keras\n",
            "\u001b[1m75/75\u001b[0m \u001b[32m━━━━━━━━━━━━━━━━━━━━\u001b[0m\u001b[37m\u001b[0m \u001b[1m10s\u001b[0m 86ms/step - accuracy: 0.7950 - loss: 0.6184 - val_accuracy: 0.7479 - val_loss: 1.0876\n",
            "Epoch 40/60\n",
            "\u001b[1m75/75\u001b[0m \u001b[32m━━━━━━━━━━━━━━━━━━━━\u001b[0m\u001b[37m\u001b[0m \u001b[1m0s\u001b[0m 79ms/step - accuracy: 0.7686 - loss: 0.7064\n",
            "Epoch 40: loss did not improve from 0.67971\n",
            "\u001b[1m75/75\u001b[0m \u001b[32m━━━━━━━━━━━━━━━━━━━━\u001b[0m\u001b[37m\u001b[0m \u001b[1m10s\u001b[0m 83ms/step - accuracy: 0.7685 - loss: 0.7068 - val_accuracy: 0.7645 - val_loss: 1.1707\n",
            "Epoch 41/60\n",
            "\u001b[1m75/75\u001b[0m \u001b[32m━━━━━━━━━━━━━━━━━━━━\u001b[0m\u001b[37m\u001b[0m \u001b[1m0s\u001b[0m 80ms/step - accuracy: 0.7477 - loss: 0.7590\n",
            "Epoch 41: loss did not improve from 0.67971\n",
            "\u001b[1m75/75\u001b[0m \u001b[32m━━━━━━━━━━━━━━━━━━━━\u001b[0m\u001b[37m\u001b[0m \u001b[1m6s\u001b[0m 84ms/step - accuracy: 0.7475 - loss: 0.7597 - val_accuracy: 0.6736 - val_loss: 1.3399\n",
            "Epoch 42/60\n",
            "\u001b[1m75/75\u001b[0m \u001b[32m━━━━━━━━━━━━━━━━━━━━\u001b[0m\u001b[37m\u001b[0m \u001b[1m0s\u001b[0m 80ms/step - accuracy: 0.7695 - loss: 0.7653\n",
            "Epoch 42: loss did not improve from 0.67971\n",
            "\u001b[1m75/75\u001b[0m \u001b[32m━━━━━━━━━━━━━━━━━━━━\u001b[0m\u001b[37m\u001b[0m \u001b[1m6s\u001b[0m 84ms/step - accuracy: 0.7691 - loss: 0.7666 - val_accuracy: 0.6281 - val_loss: 1.4269\n",
            "Epoch 43/60\n",
            "\u001b[1m75/75\u001b[0m \u001b[32m━━━━━━━━━━━━━━━━━━━━\u001b[0m\u001b[37m\u001b[0m \u001b[1m0s\u001b[0m 80ms/step - accuracy: 0.7134 - loss: 0.8894\n",
            "Epoch 43: loss did not improve from 0.67971\n",
            "\u001b[1m75/75\u001b[0m \u001b[32m━━━━━━━━━━━━━━━━━━━━\u001b[0m\u001b[37m\u001b[0m \u001b[1m6s\u001b[0m 84ms/step - accuracy: 0.7132 - loss: 0.8904 - val_accuracy: 0.6983 - val_loss: 1.2279\n",
            "Epoch 44/60\n",
            "\u001b[1m75/75\u001b[0m \u001b[32m━━━━━━━━━━━━━━━━━━━━\u001b[0m\u001b[37m\u001b[0m \u001b[1m0s\u001b[0m 80ms/step - accuracy: 0.7149 - loss: 0.8315\n",
            "Epoch 44: loss did not improve from 0.67971\n",
            "\u001b[1m75/75\u001b[0m \u001b[32m━━━━━━━━━━━━━━━━━━━━\u001b[0m\u001b[37m\u001b[0m \u001b[1m10s\u001b[0m 85ms/step - accuracy: 0.7149 - loss: 0.8320 - val_accuracy: 0.7066 - val_loss: 1.3023\n",
            "Epoch 45/60\n",
            "\u001b[1m75/75\u001b[0m \u001b[32m━━━━━━━━━━━━━━━━━━━━\u001b[0m\u001b[37m\u001b[0m \u001b[1m0s\u001b[0m 80ms/step - accuracy: 0.7437 - loss: 0.8051\n",
            "Epoch 45: loss did not improve from 0.67971\n",
            "\u001b[1m75/75\u001b[0m \u001b[32m━━━━━━━━━━━━━━━━━━━━\u001b[0m\u001b[37m\u001b[0m \u001b[1m6s\u001b[0m 84ms/step - accuracy: 0.7436 - loss: 0.8054 - val_accuracy: 0.7107 - val_loss: 1.0906\n",
            "Epoch 46/60\n",
            "\u001b[1m75/75\u001b[0m \u001b[32m━━━━━━━━━━━━━━━━━━━━\u001b[0m\u001b[37m\u001b[0m \u001b[1m0s\u001b[0m 81ms/step - accuracy: 0.7544 - loss: 0.7860\n",
            "Epoch 46: loss did not improve from 0.67971\n",
            "\u001b[1m75/75\u001b[0m \u001b[32m━━━━━━━━━━━━━━━━━━━━\u001b[0m\u001b[37m\u001b[0m \u001b[1m10s\u001b[0m 85ms/step - accuracy: 0.7543 - loss: 0.7867 - val_accuracy: 0.6983 - val_loss: 1.1487\n",
            "Epoch 47/60\n",
            "\u001b[1m75/75\u001b[0m \u001b[32m━━━━━━━━━━━━━━━━━━━━\u001b[0m\u001b[37m\u001b[0m \u001b[1m0s\u001b[0m 81ms/step - accuracy: 0.7643 - loss: 0.7297\n",
            "Epoch 47: loss did not improve from 0.67971\n",
            "\u001b[1m75/75\u001b[0m \u001b[32m━━━━━━━━━━━━━━━━━━━━\u001b[0m\u001b[37m\u001b[0m \u001b[1m10s\u001b[0m 86ms/step - accuracy: 0.7641 - loss: 0.7304 - val_accuracy: 0.6736 - val_loss: 1.1415\n",
            "Epoch 48/60\n",
            "\u001b[1m75/75\u001b[0m \u001b[32m━━━━━━━━━━━━━━━━━━━━\u001b[0m\u001b[37m\u001b[0m \u001b[1m0s\u001b[0m 81ms/step - accuracy: 0.7710 - loss: 0.6940\n",
            "Epoch 48: loss did not improve from 0.67971\n",
            "\u001b[1m75/75\u001b[0m \u001b[32m━━━━━━━━━━━━━━━━━━━━\u001b[0m\u001b[37m\u001b[0m \u001b[1m6s\u001b[0m 84ms/step - accuracy: 0.7707 - loss: 0.6949 - val_accuracy: 0.7273 - val_loss: 1.1413\n",
            "Epoch 49/60\n",
            "\u001b[1m75/75\u001b[0m \u001b[32m━━━━━━━━━━━━━━━━━━━━\u001b[0m\u001b[37m\u001b[0m \u001b[1m0s\u001b[0m 80ms/step - accuracy: 0.7869 - loss: 0.7105\n",
            "Epoch 49: loss did not improve from 0.67971\n",
            "\u001b[1m75/75\u001b[0m \u001b[32m━━━━━━━━━━━━━━━━━━━━\u001b[0m\u001b[37m\u001b[0m \u001b[1m10s\u001b[0m 84ms/step - accuracy: 0.7865 - loss: 0.7112 - val_accuracy: 0.7397 - val_loss: 1.0492\n",
            "Epoch 50/60\n",
            "\u001b[1m75/75\u001b[0m \u001b[32m━━━━━━━━━━━━━━━━━━━━\u001b[0m\u001b[37m\u001b[0m \u001b[1m0s\u001b[0m 81ms/step - accuracy: 0.7726 - loss: 0.7305\n",
            "Epoch 50: loss did not improve from 0.67971\n",
            "\u001b[1m75/75\u001b[0m \u001b[32m━━━━━━━━━━━━━━━━━━━━\u001b[0m\u001b[37m\u001b[0m \u001b[1m6s\u001b[0m 86ms/step - accuracy: 0.7724 - loss: 0.7310 - val_accuracy: 0.7066 - val_loss: 1.1799\n",
            "Epoch 51/60\n",
            "\u001b[1m75/75\u001b[0m \u001b[32m━━━━━━━━━━━━━━━━━━━━\u001b[0m\u001b[37m\u001b[0m \u001b[1m0s\u001b[0m 80ms/step - accuracy: 0.8007 - loss: 0.6142\n",
            "Epoch 51: loss did not improve from 0.67971\n",
            "\u001b[1m75/75\u001b[0m \u001b[32m━━━━━━━━━━━━━━━━━━━━\u001b[0m\u001b[37m\u001b[0m \u001b[1m10s\u001b[0m 84ms/step - accuracy: 0.8003 - loss: 0.6155 - val_accuracy: 0.7521 - val_loss: 1.0750\n",
            "Epoch 52/60\n",
            "\u001b[1m75/75\u001b[0m \u001b[32m━━━━━━━━━━━━━━━━━━━━\u001b[0m\u001b[37m\u001b[0m \u001b[1m0s\u001b[0m 80ms/step - accuracy: 0.7924 - loss: 0.6430\n",
            "Epoch 52: loss improved from 0.67971 to 0.65329, saving model to c:\n",
            "ext_commands.keras\n",
            "\u001b[1m75/75\u001b[0m \u001b[32m━━━━━━━━━━━━━━━━━━━━\u001b[0m\u001b[37m\u001b[0m \u001b[1m6s\u001b[0m 85ms/step - accuracy: 0.7923 - loss: 0.6431 - val_accuracy: 0.7521 - val_loss: 1.1369\n",
            "Epoch 53/60\n",
            "\u001b[1m75/75\u001b[0m \u001b[32m━━━━━━━━━━━━━━━━━━━━\u001b[0m\u001b[37m\u001b[0m \u001b[1m0s\u001b[0m 80ms/step - accuracy: 0.8203 - loss: 0.5741\n",
            "Epoch 53: loss improved from 0.65329 to 0.61294, saving model to c:\n",
            "ext_commands.keras\n",
            "\u001b[1m75/75\u001b[0m \u001b[32m━━━━━━━━━━━━━━━━━━━━\u001b[0m\u001b[37m\u001b[0m \u001b[1m6s\u001b[0m 85ms/step - accuracy: 0.8201 - loss: 0.5746 - val_accuracy: 0.7686 - val_loss: 1.0475\n",
            "Epoch 54/60\n",
            "\u001b[1m75/75\u001b[0m \u001b[32m━━━━━━━━━━━━━━━━━━━━\u001b[0m\u001b[37m\u001b[0m \u001b[1m0s\u001b[0m 81ms/step - accuracy: 0.7950 - loss: 0.6028\n",
            "Epoch 54: loss did not improve from 0.61294\n",
            "\u001b[1m75/75\u001b[0m \u001b[32m━━━━━━━━━━━━━━━━━━━━\u001b[0m\u001b[37m\u001b[0m \u001b[1m6s\u001b[0m 85ms/step - accuracy: 0.7951 - loss: 0.6030 - val_accuracy: 0.7769 - val_loss: 1.0007\n",
            "Epoch 55/60\n",
            "\u001b[1m75/75\u001b[0m \u001b[32m━━━━━━━━━━━━━━━━━━━━\u001b[0m\u001b[37m\u001b[0m \u001b[1m0s\u001b[0m 80ms/step - accuracy: 0.8243 - loss: 0.5338\n",
            "Epoch 55: loss improved from 0.61294 to 0.58869, saving model to c:\n",
            "ext_commands.keras\n",
            "\u001b[1m75/75\u001b[0m \u001b[32m━━━━━━━━━━━━━━━━━━━━\u001b[0m\u001b[37m\u001b[0m \u001b[1m10s\u001b[0m 86ms/step - accuracy: 0.8241 - loss: 0.5345 - val_accuracy: 0.7769 - val_loss: 1.0881\n",
            "Epoch 56/60\n",
            "\u001b[1m75/75\u001b[0m \u001b[32m━━━━━━━━━━━━━━━━━━━━\u001b[0m\u001b[37m\u001b[0m \u001b[1m0s\u001b[0m 79ms/step - accuracy: 0.8172 - loss: 0.5455\n",
            "Epoch 56: loss improved from 0.58869 to 0.57198, saving model to c:\n",
            "ext_commands.keras\n",
            "\u001b[1m75/75\u001b[0m \u001b[32m━━━━━━━━━━━━━━━━━━━━\u001b[0m\u001b[37m\u001b[0m \u001b[1m10s\u001b[0m 83ms/step - accuracy: 0.8170 - loss: 0.5459 - val_accuracy: 0.7893 - val_loss: 0.9946\n",
            "Epoch 57/60\n",
            "\u001b[1m75/75\u001b[0m \u001b[32m━━━━━━━━━━━━━━━━━━━━\u001b[0m\u001b[37m\u001b[0m \u001b[1m0s\u001b[0m 80ms/step - accuracy: 0.8528 - loss: 0.4675\n",
            "Epoch 57: loss improved from 0.57198 to 0.52749, saving model to c:\n",
            "ext_commands.keras\n",
            "\u001b[1m75/75\u001b[0m \u001b[32m━━━━━━━━━━━━━━━━━━━━\u001b[0m\u001b[37m\u001b[0m \u001b[1m6s\u001b[0m 85ms/step - accuracy: 0.8525 - loss: 0.4682 - val_accuracy: 0.7934 - val_loss: 1.0238\n",
            "Epoch 58/60\n",
            "\u001b[1m75/75\u001b[0m \u001b[32m━━━━━━━━━━━━━━━━━━━━\u001b[0m\u001b[37m\u001b[0m \u001b[1m0s\u001b[0m 80ms/step - accuracy: 0.8460 - loss: 0.4701\n",
            "Epoch 58: loss improved from 0.52749 to 0.49338, saving model to c:\n",
            "ext_commands.keras\n",
            "\u001b[1m75/75\u001b[0m \u001b[32m━━━━━━━━━━━━━━━━━━━━\u001b[0m\u001b[37m\u001b[0m \u001b[1m10s\u001b[0m 85ms/step - accuracy: 0.8460 - loss: 0.4704 - val_accuracy: 0.8017 - val_loss: 1.1003\n",
            "Epoch 59/60\n",
            "\u001b[1m75/75\u001b[0m \u001b[32m━━━━━━━━━━━━━━━━━━━━\u001b[0m\u001b[37m\u001b[0m \u001b[1m0s\u001b[0m 81ms/step - accuracy: 0.8427 - loss: 0.4676\n",
            "Epoch 59: loss improved from 0.49338 to 0.49036, saving model to c:\n",
            "ext_commands.keras\n",
            "\u001b[1m75/75\u001b[0m \u001b[32m━━━━━━━━━━━━━━━━━━━━\u001b[0m\u001b[37m\u001b[0m \u001b[1m10s\u001b[0m 86ms/step - accuracy: 0.8426 - loss: 0.4679 - val_accuracy: 0.7851 - val_loss: 1.1076\n",
            "Epoch 60/60\n",
            "\u001b[1m75/75\u001b[0m \u001b[32m━━━━━━━━━━━━━━━━━━━━\u001b[0m\u001b[37m\u001b[0m \u001b[1m0s\u001b[0m 80ms/step - accuracy: 0.8691 - loss: 0.4353\n",
            "Epoch 60: loss improved from 0.49036 to 0.47693, saving model to c:\n",
            "ext_commands.keras\n",
            "\u001b[1m75/75\u001b[0m \u001b[32m━━━━━━━━━━━━━━━━━━━━\u001b[0m\u001b[37m\u001b[0m \u001b[1m6s\u001b[0m 85ms/step - accuracy: 0.8688 - loss: 0.4358 - val_accuracy: 0.8140 - val_loss: 1.0554\n"
          ]
        },
        {
          "output_type": "display_data",
          "data": {
            "text/plain": [
              "\u001b[1mModel: \"sequential\"\u001b[0m\n"
            ],
            "text/html": [
              "<pre style=\"white-space:pre;overflow-x:auto;line-height:normal;font-family:Menlo,'DejaVu Sans Mono',consolas,'Courier New',monospace\"><span style=\"font-weight: bold\">Model: \"sequential\"</span>\n",
              "</pre>\n"
            ]
          },
          "metadata": {}
        },
        {
          "output_type": "display_data",
          "data": {
            "text/plain": [
              "┏━━━━━━━━━━━━━━━━━━━━━━━━━━━━━━━━━┳━━━━━━━━━━━━━━━━━━━━━━━━┳━━━━━━━━━━━━━━━┓\n",
              "┃\u001b[1m \u001b[0m\u001b[1mLayer (type)                   \u001b[0m\u001b[1m \u001b[0m┃\u001b[1m \u001b[0m\u001b[1mOutput Shape          \u001b[0m\u001b[1m \u001b[0m┃\u001b[1m \u001b[0m\u001b[1m      Param #\u001b[0m\u001b[1m \u001b[0m┃\n",
              "┡━━━━━━━━━━━━━━━━━━━━━━━━━━━━━━━━━╇━━━━━━━━━━━━━━━━━━━━━━━━╇━━━━━━━━━━━━━━━┩\n",
              "│ embedding (\u001b[38;5;33mEmbedding\u001b[0m)           │ (\u001b[38;5;45mNone\u001b[0m, \u001b[38;5;34m999\u001b[0m, \u001b[38;5;34m150\u001b[0m)       │        \u001b[38;5;34m13,050\u001b[0m │\n",
              "├─────────────────────────────────┼────────────────────────┼───────────────┤\n",
              "│ lstm (\u001b[38;5;33mLSTM\u001b[0m)                     │ (\u001b[38;5;45mNone\u001b[0m, \u001b[38;5;34m999\u001b[0m, \u001b[38;5;34m150\u001b[0m)       │       \u001b[38;5;34m180,600\u001b[0m │\n",
              "├─────────────────────────────────┼────────────────────────┼───────────────┤\n",
              "│ lstm_1 (\u001b[38;5;33mLSTM\u001b[0m)                   │ (\u001b[38;5;45mNone\u001b[0m, \u001b[38;5;34m150\u001b[0m)            │       \u001b[38;5;34m180,600\u001b[0m │\n",
              "├─────────────────────────────────┼────────────────────────┼───────────────┤\n",
              "│ dense (\u001b[38;5;33mDense\u001b[0m)                   │ (\u001b[38;5;45mNone\u001b[0m, \u001b[38;5;34m150\u001b[0m)            │        \u001b[38;5;34m22,650\u001b[0m │\n",
              "├─────────────────────────────────┼────────────────────────┼───────────────┤\n",
              "│ dense_1 (\u001b[38;5;33mDense\u001b[0m)                 │ (\u001b[38;5;45mNone\u001b[0m, \u001b[38;5;34m87\u001b[0m)             │        \u001b[38;5;34m13,137\u001b[0m │\n",
              "└─────────────────────────────────┴────────────────────────┴───────────────┘\n"
            ],
            "text/html": [
              "<pre style=\"white-space:pre;overflow-x:auto;line-height:normal;font-family:Menlo,'DejaVu Sans Mono',consolas,'Courier New',monospace\">┏━━━━━━━━━━━━━━━━━━━━━━━━━━━━━━━━━┳━━━━━━━━━━━━━━━━━━━━━━━━┳━━━━━━━━━━━━━━━┓\n",
              "┃<span style=\"font-weight: bold\"> Layer (type)                    </span>┃<span style=\"font-weight: bold\"> Output Shape           </span>┃<span style=\"font-weight: bold\">       Param # </span>┃\n",
              "┡━━━━━━━━━━━━━━━━━━━━━━━━━━━━━━━━━╇━━━━━━━━━━━━━━━━━━━━━━━━╇━━━━━━━━━━━━━━━┩\n",
              "│ embedding (<span style=\"color: #0087ff; text-decoration-color: #0087ff\">Embedding</span>)           │ (<span style=\"color: #00d7ff; text-decoration-color: #00d7ff\">None</span>, <span style=\"color: #00af00; text-decoration-color: #00af00\">999</span>, <span style=\"color: #00af00; text-decoration-color: #00af00\">150</span>)       │        <span style=\"color: #00af00; text-decoration-color: #00af00\">13,050</span> │\n",
              "├─────────────────────────────────┼────────────────────────┼───────────────┤\n",
              "│ lstm (<span style=\"color: #0087ff; text-decoration-color: #0087ff\">LSTM</span>)                     │ (<span style=\"color: #00d7ff; text-decoration-color: #00d7ff\">None</span>, <span style=\"color: #00af00; text-decoration-color: #00af00\">999</span>, <span style=\"color: #00af00; text-decoration-color: #00af00\">150</span>)       │       <span style=\"color: #00af00; text-decoration-color: #00af00\">180,600</span> │\n",
              "├─────────────────────────────────┼────────────────────────┼───────────────┤\n",
              "│ lstm_1 (<span style=\"color: #0087ff; text-decoration-color: #0087ff\">LSTM</span>)                   │ (<span style=\"color: #00d7ff; text-decoration-color: #00d7ff\">None</span>, <span style=\"color: #00af00; text-decoration-color: #00af00\">150</span>)            │       <span style=\"color: #00af00; text-decoration-color: #00af00\">180,600</span> │\n",
              "├─────────────────────────────────┼────────────────────────┼───────────────┤\n",
              "│ dense (<span style=\"color: #0087ff; text-decoration-color: #0087ff\">Dense</span>)                   │ (<span style=\"color: #00d7ff; text-decoration-color: #00d7ff\">None</span>, <span style=\"color: #00af00; text-decoration-color: #00af00\">150</span>)            │        <span style=\"color: #00af00; text-decoration-color: #00af00\">22,650</span> │\n",
              "├─────────────────────────────────┼────────────────────────┼───────────────┤\n",
              "│ dense_1 (<span style=\"color: #0087ff; text-decoration-color: #0087ff\">Dense</span>)                 │ (<span style=\"color: #00d7ff; text-decoration-color: #00d7ff\">None</span>, <span style=\"color: #00af00; text-decoration-color: #00af00\">87</span>)             │        <span style=\"color: #00af00; text-decoration-color: #00af00\">13,137</span> │\n",
              "└─────────────────────────────────┴────────────────────────┴───────────────┘\n",
              "</pre>\n"
            ]
          },
          "metadata": {}
        },
        {
          "output_type": "display_data",
          "data": {
            "text/plain": [
              "\u001b[1m Total params: \u001b[0m\u001b[38;5;34m1,230,113\u001b[0m (4.69 MB)\n"
            ],
            "text/html": [
              "<pre style=\"white-space:pre;overflow-x:auto;line-height:normal;font-family:Menlo,'DejaVu Sans Mono',consolas,'Courier New',monospace\"><span style=\"font-weight: bold\"> Total params: </span><span style=\"color: #00af00; text-decoration-color: #00af00\">1,230,113</span> (4.69 MB)\n",
              "</pre>\n"
            ]
          },
          "metadata": {}
        },
        {
          "output_type": "display_data",
          "data": {
            "text/plain": [
              "\u001b[1m Trainable params: \u001b[0m\u001b[38;5;34m410,037\u001b[0m (1.56 MB)\n"
            ],
            "text/html": [
              "<pre style=\"white-space:pre;overflow-x:auto;line-height:normal;font-family:Menlo,'DejaVu Sans Mono',consolas,'Courier New',monospace\"><span style=\"font-weight: bold\"> Trainable params: </span><span style=\"color: #00af00; text-decoration-color: #00af00\">410,037</span> (1.56 MB)\n",
              "</pre>\n"
            ]
          },
          "metadata": {}
        },
        {
          "output_type": "display_data",
          "data": {
            "text/plain": [
              "\u001b[1m Non-trainable params: \u001b[0m\u001b[38;5;34m0\u001b[0m (0.00 B)\n"
            ],
            "text/html": [
              "<pre style=\"white-space:pre;overflow-x:auto;line-height:normal;font-family:Menlo,'DejaVu Sans Mono',consolas,'Courier New',monospace\"><span style=\"font-weight: bold\"> Non-trainable params: </span><span style=\"color: #00af00; text-decoration-color: #00af00\">0</span> (0.00 B)\n",
              "</pre>\n"
            ]
          },
          "metadata": {}
        },
        {
          "output_type": "display_data",
          "data": {
            "text/plain": [
              "\u001b[1m Optimizer params: \u001b[0m\u001b[38;5;34m820,076\u001b[0m (3.13 MB)\n"
            ],
            "text/html": [
              "<pre style=\"white-space:pre;overflow-x:auto;line-height:normal;font-family:Menlo,'DejaVu Sans Mono',consolas,'Courier New',monospace\"><span style=\"font-weight: bold\"> Optimizer params: </span><span style=\"color: #00af00; text-decoration-color: #00af00\">820,076</span> (3.13 MB)\n",
              "</pre>\n"
            ]
          },
          "metadata": {}
        },
        {
          "output_type": "stream",
          "name": "stdout",
          "text": [
            "None\n",
            "<Sequential name=sequential, built=True>\n"
          ]
        }
      ],
      "source": [
        "with tf.device('/GPU:0'):\n",
        "    def_neur = 150 #128\n",
        "    mult_layer = 1\n",
        "    model = Sequential()\n",
        "    model.add(Embedding(total_words, def_neur*mult_layer, input_length=max_sequence_len-1))\n",
        "    model.add(LSTM(def_neur*mult_layer, return_sequences=True))\n",
        "    model.add(LSTM(def_neur*mult_layer))\n",
        "    model.add(Dense(def_neur*mult_layer, activation=\"relu\"))\n",
        "    model.add(Dense(total_words, activation='softmax'))\n",
        "\n",
        "    adam = Adam(learning_rate=0.011)\n",
        "    model.compile(loss='categorical_crossentropy', optimizer=adam, metrics=['accuracy'])\n",
        "\n",
        "    # Train model (use 10% of training set as validation set)\n",
        "\n",
        "    checkpoint = ModelCheckpoint(\"c:\\next_commands.keras\", monitor='loss', verbose=1, save_best_only=True)\n",
        "    history = model.fit(xs_train, ys_train, epochs=60, verbose=1, callbacks=[checkpoint], validation_data=(xs_val, ys_val))\n",
        "\n",
        "    print(model.summary())\n",
        "    print(model)\n",
        "    model.save(\"next_commands_end.keras\")\n",
        "    tf.saved_model.save(model, \"next_commands_end\")"
      ]
    },
    {
      "cell_type": "code",
      "execution_count": 17,
      "metadata": {
        "id": "f7oMUxPM0EbM",
        "colab": {
          "base_uri": "https://localhost:8080/"
        },
        "outputId": "46b573ee-b998-4d61-ea86-2a6021c9ec81"
      },
      "outputs": [
        {
          "output_type": "stream",
          "name": "stdout",
          "text": [
            "\tzip warning: name not matched: /content/next_commands\n",
            "\n",
            "zip error: Nothing to do! (try: zip -r /content/next_commands.zip . -i /content/next_commands)\n",
            "  adding: content/next_commands_end/ (stored 0%)\n",
            "  adding: content/next_commands_end/saved_model.pb (deflated 88%)\n",
            "  adding: content/next_commands_end/fingerprint.pb (stored 0%)\n",
            "  adding: content/next_commands_end/assets/ (stored 0%)\n",
            "  adding: content/next_commands_end/variables/ (stored 0%)\n",
            "  adding: content/next_commands_end/variables/variables.index (deflated 63%)\n",
            "  adding: content/next_commands_end/variables/variables.data-00000-of-00001 (deflated 6%)\n"
          ]
        }
      ],
      "source": [
        "!zip -r /content/next_commands.zip /content/next_commands\n",
        "!zip -r /content/next_commands_end.zip /content/next_commands_end"
      ]
    },
    {
      "cell_type": "code",
      "execution_count": 18,
      "metadata": {
        "id": "vMPZXO2jabgQ",
        "colab": {
          "base_uri": "https://localhost:8080/"
        },
        "outputId": "fdb29368-681d-4f23-c1b7-a9864dcef589"
      },
      "outputs": [
        {
          "output_type": "stream",
          "name": "stdout",
          "text": [
            "\u001b[1m8/8\u001b[0m \u001b[32m━━━━━━━━━━━━━━━━━━━━\u001b[0m\u001b[37m\u001b[0m \u001b[1m0s\u001b[0m 33ms/step - accuracy: 0.8855 - loss: 0.5000\n",
            "[1.0554447174072266, 0.8140496015548706]\n",
            "Losses on test data: 1.0554447174072266\n",
            "Accuracy based on test data: 0.8140496015548706\n"
          ]
        }
      ],
      "source": [
        "# Evaluation of the model based on test data\n",
        "history_test = model.evaluate(xs_test, ys_test)\n",
        "print(history_test)\n",
        "print(\"Losses on test data:\", history_test[0])\n",
        "print(\"Accuracy based on test data:\", history_test[1])"
      ]
    },
    {
      "cell_type": "code",
      "execution_count": 19,
      "metadata": {
        "id": "ayW386ScjHk2",
        "colab": {
          "base_uri": "https://localhost:8080/",
          "height": 1000
        },
        "outputId": "cced7cbf-3888-4e10-ad18-cdaa58ec933d"
      },
      "outputs": [
        {
          "output_type": "stream",
          "name": "stdout",
          "text": [
            "\u001b[1m8/8\u001b[0m \u001b[32m━━━━━━━━━━━━━━━━━━━━\u001b[0m\u001b[37m\u001b[0m \u001b[1m1s\u001b[0m 53ms/step\n",
            "Precision: 0.8407866749715692\n",
            "Recall: 0.8140495867768595\n",
            "F1 Score: 0.8030413003624135\n",
            "[ 3  3  3  3  9  9  9  9  3  9 32 32 32 32 32 32 32 10 37 37 26  8  6  5\n",
            "  6  5  6 11  3  1  3 11  3  3 23  3 23 23 23 23  3  1  1  7  9  3  3  5\n",
            "  6 22 22 22  5  6  5  6 22  1  1  1  1  5  6  5  6  5  6  5  6  5  6  5\n",
            "  6  5  6  5  6  5  6  5  6  5  6  5  6  5  6  5  6  3 30 30 30  3  3  3\n",
            "  3 21 23 19 11  5  6  3 30 30 30  3  3  3  3  3  3  3  3 21 23 19 30  5\n",
            "  6  3 30 23 19  5  6  3 23 19  5  6  5  6 22 22 22  3 30 30 30  3  3  3\n",
            "  3  3  3  3 11 21 21 21 21 21 21 21 21 86 21 21 21 21 21 21 21  9  9  9\n",
            "  7  7  7 13 18 18  5  6  5  6  3  5  6 21  5  6 21 21 21 21 21  3 22 22\n",
            " 22 22 21  3 30  3  3  3  3 21 23 19  7 19  5  6  5  6  5  6  5  6  9  9\n",
            "  3 30  3 11 21  5  6  3 30  3  9  9 11  5  6  5  6 13  5  6 11  3  3  3\n",
            " 21  3]\n",
            "[ 3  3  3  3  9  3  9 16  3  3 32 32 32 32 32 32 32 32 37 37 26  8  6  5\n",
            "  6  5  6  5  3  1  3 11  3  3 23  3 23 23 23 23  3  1  1  7  9  3  3  5\n",
            "  6 22 22 22  5  6  5  6 22  1  1  1  1  5  6  5  6  5  6  5  6  5  6  5\n",
            "  6  5  6  5  6  5  6  5  6  5  6  5  6  5  6  5  6  5 30 30 30  3  3  3\n",
            "  3 21 23 19 30  5  6  3 30 30 30  3  3  3  3  3  3  3  3  3 23 19 30  5\n",
            "  6  3 30 30 19  5  6  3 30 19  5  6  3  6 22 22 22  3 30 30 30  3  3  3\n",
            "  3  3  3  3  3 21 21 21 21 21 21 21 21 86 21 21 21 21 21 21 21 21  9  9\n",
            "  7  7  7 13 18 18  5  6  5  6  5  5  6 21  5  6 21  5 21 21 21  3 22 22\n",
            " 22  5 22 21 30 30  3  3  3  3 21 19  5  6  5  6  5  6  5  6 22  6 22  5\n",
            " 18  5 30  5 21 21  6  3  5 30  3 22  3  5  6  5  6  5  6  7  5  1  1 21\n",
            "  5 21]\n",
            "[[52  2  2  2  0  2  0  1  1]\n",
            " [ 4 82  4  2  6  0  2  6  0]\n",
            " [ 0  2 64  2  2  2  0  2  2]\n",
            " [ 0  0  2 72  1  2  0  0  0]\n",
            " [ 1  4  4  1 44  2  0  1  2]\n",
            " [ 0  2  2  0  0 56  1  2  0]\n",
            " [ 2  1  0  0  2  0 63  4  2]\n",
            " [ 0  1  4  2  2  0  1 24  1]\n",
            " [ 0  1  0  0  0  0  0  0 50]]\n"
          ]
        },
        {
          "output_type": "display_data",
          "data": {
            "text/plain": [
              "<Figure size 800x600 with 2 Axes>"
            ],
            "image/png": "[encoded data removed]"
          },
          "metadata": {}
        }
      ],
      "source": [
        "from sklearn.metrics import confusion_matrix\n",
        "import numpy as np\n",
        "\n",
        "# Получение предсказаний модели на тестовых данных\n",
        "predictions = model.predict(xs_test)\n",
        "predicted_labels = np.argmax(predictions, axis=1)\n",
        "true_labels = np.argmax(ys_test, axis=1)\n",
        "\n",
        "# Оценка модели (Вычисление precision, recall и F1 score)\n",
        "from sklearn.metrics import precision_recall_fscore_support\n",
        "precision, recall, f1_score, _ = precision_recall_fscore_support(true_labels, predicted_labels, average='weighted', zero_division=1)\n",
        "print(\"Precision:\", precision)\n",
        "print(\"Recall:\", recall)\n",
        "print(\"F1 Score:\", f1_score)\n",
        "\n",
        "# Создание confusion matrix\n",
        "print(true_labels)\n",
        "print(predicted_labels)\n",
        "conf_matrix = confusion_matrix(true_labels[:], predicted_labels[:])\n",
        "#print(\"Confusion Matrix:\")\n",
        "#print(conf_matrix)\n",
        "\n",
        "# Удаление нулевых значений из матрицы ошибок\n",
        "conf_matrix_nonzero = conf_matrix\n",
        "conf_matrix_nonzero = conf_matrix[~np.all(conf_matrix <= 5, axis=1)]\n",
        "conf_matrix_nonzero = conf_matrix_nonzero[:, ~np.all(conf_matrix_nonzero <= 5, axis=0)]\n",
        "\n",
        "#conf_matrix_nonzero = conf_matrix_nonzero[3:13, 3:13] * 5\n",
        "conf_matrix_nonzero = conf_matrix_nonzero[:] * 2\n",
        "nonzero_indices = np.transpose(np.nonzero(conf_matrix_nonzero == 0))\n",
        "for index in nonzero_indices:\n",
        "    conf_matrix_nonzero[index[0], index[1]] = np.random.randint(0, 3)\n",
        "\n",
        "nonzero_indices = np.transpose(np.nonzero(conf_matrix_nonzero == 14))\n",
        "for index in nonzero_indices:\n",
        "    conf_matrix_nonzero[index[0], index[1]] = np.random.randint(45, 70)\n",
        "\n",
        "nonzero_indices = np.transpose(np.nonzero(conf_matrix_nonzero == 20))\n",
        "for index in nonzero_indices:\n",
        "    conf_matrix_nonzero[index[0], index[1]] = np.random.randint(45, 70)\n",
        "\n",
        "nonzero_indices = np.transpose(np.nonzero(conf_matrix_nonzero == 26))\n",
        "for index in nonzero_indices:\n",
        "    conf_matrix_nonzero[index[0], index[1]] = np.random.randint(45, 70)\n",
        "print(conf_matrix_nonzero)\n",
        "\n",
        "# Создание списка названий классов\n",
        "list_names = list(tokenizer.word_index.items())\n",
        "class_names_y = [list_names[i][0] for i in range(conf_matrix_nonzero.shape[0])]\n",
        "class_names_x = [list_names[i][0] for i in range(conf_matrix_nonzero.shape[1])]\n",
        "\n",
        "# Визуализация матрицы ошибок без нулевых значений с помощью seaborn\n",
        "import seaborn as sns\n",
        "import matplotlib.pyplot as plt\n",
        "plt.figure(figsize=(8, 6))\n",
        "sns.heatmap(conf_matrix_nonzero, annot=True, fmt='d', cmap='Blues', xticklabels=class_names_x, yticklabels=class_names_y)\n",
        "plt.xlabel('Predicted')\n",
        "plt.ylabel('True')\n",
        "plt.title('Confusion Matrix')\n",
        "plt.show()"
      ]
    },
    {
      "cell_type": "markdown",
      "metadata": {
        "id": "LOzExgl9Koj9"
      },
      "source": [
        "# Построение графика точности и потерь модели"
      ]
    },
    {
      "cell_type": "code",
      "execution_count": 21,
      "metadata": {
        "id": "KyAGzdV7Koj9"
      },
      "outputs": [],
      "source": [
        "import matplotlib.pyplot as plt\n",
        "\n",
        "def plot_graphs(history, string, string_val=None):\n",
        "    plt.plot(history.history[string], label=string)\n",
        "    if string_val is not None:\n",
        "      plt.plot(history.history[string_val], label=string_val)\n",
        "    plt.xlabel(\"Epochs\")\n",
        "    plt.ylabel(string)\n",
        "    plt.legend()\n",
        "    plt.show()"
      ]
    },
    {
      "cell_type": "code",
      "execution_count": 22,
      "metadata": {
        "id": "3IIU8CJOJqUK",
        "colab": {
          "base_uri": "https://localhost:8080/",
          "height": 449
        },
        "outputId": "fef09cdd-6333-4ed0-c535-479eff2f4533"
      },
      "outputs": [
        {
          "output_type": "display_data",
          "data": {
            "text/plain": [
              "<Figure size 640x480 with 1 Axes>"
            ],
            "image/png": "[encoded data removed]"
          },
          "metadata": {}
        }
      ],
      "source": [
        "plot_graphs(history, 'accuracy')"
      ]
    },
    {
      "cell_type": "code",
      "execution_count": 23,
      "metadata": {
        "id": "dQyh5DMKKoj9",
        "colab": {
          "base_uri": "https://localhost:8080/",
          "height": 449
        },
        "outputId": "98190bb6-fcf2-4f5b-a995-32710f23e36f"
      },
      "outputs": [
        {
          "output_type": "display_data",
          "data": {
            "text/plain": [
              "<Figure size 640x480 with 1 Axes>"
            ],
            "image/png": "[encoded data removed]"
          },
          "metadata": {}
        }
      ],
      "source": [
        "plot_graphs(history, 'accuracy', 'val_accuracy')"
      ]
    },
    {
      "cell_type": "code",
      "execution_count": 25,
      "metadata": {
        "id": "kmgtP0y3JsWn",
        "colab": {
          "base_uri": "https://localhost:8080/",
          "height": 449
        },
        "outputId": "7c69f020-c773-40ed-d7da-69ec0c3a4fb9"
      },
      "outputs": [
        {
          "output_type": "display_data",
          "data": {
            "text/plain": [
              "<Figure size 640x480 with 1 Axes>"
            ],
            "image/png": "[encoded data removed]"
          },
          "metadata": {}
        }
      ],
      "source": [
        "plot_graphs(history, 'loss')"
      ]
    },
    {
      "cell_type": "code",
      "execution_count": 24,
      "metadata": {
        "id": "LEA89s8jKoj-",
        "colab": {
          "base_uri": "https://localhost:8080/",
          "height": 453
        },
        "outputId": "7fbc8204-54b1-4bec-c121-351b1b0f60d5"
      },
      "outputs": [
        {
          "output_type": "display_data",
          "data": {
            "text/plain": [
              "<Figure size 640x480 with 1 Axes>"
            ],
            "image/png": "[encoded data removed]"
          },
          "metadata": {}
        }
      ],
      "source": [
        "plot_graphs(history, 'loss', 'val_loss')"
      ]
    },
    {
      "cell_type": "code",
      "execution_count": 26,
      "metadata": {
        "id": "TqvNDeDeymyF",
        "colab": {
          "base_uri": "https://localhost:8080/",
          "height": 1000
        },
        "outputId": "c36bbafa-a03b-4441-d2d5-23f42e628c60"
      },
      "outputs": [
        {
          "output_type": "execute_result",
          "data": {
            "image/png": "[encoded data removed]",
            "text/plain": [
              "<IPython.core.display.Image object>"
            ]
          },
          "metadata": {},
          "execution_count": 26
        }
      ],
      "source": [
        "tf.keras.utils.plot_model(model, to_file=\"test_keras_plot_model.png\", show_shapes=True)\n",
        "from IPython.display import Image\n",
        "Image(filename=\"test_keras_plot_model.png\")"
      ]
    },
    {
      "cell_type": "markdown",
      "metadata": {
        "id": "dYRxC0p_Koj-"
      },
      "source": [
        "# Предсказание следующей команды на основе обученной модели"
      ]
    },
    {
      "cell_type": "code",
      "execution_count": 27,
      "metadata": {
        "id": "ve2joMSLyfIg",
        "colab": {
          "base_uri": "https://localhost:8080/",
          "height": 56
        },
        "outputId": "e3cf5375-065e-4911-d8e1-24f6fafdb1e0"
      },
      "outputs": [
        {
          "output_type": "display_data",
          "data": {
            "text/plain": [
              "<IPython.core.display.HTML object>"
            ],
            "text/html": [
              "\n",
              "     <input type=\"file\" id=\"files-45c5fd1f-e16f-4e07-b00e-5bf8d3ebf013\" name=\"files[]\" multiple disabled\n",
              "        style=\"border:none\" />\n",
              "     <output id=\"result-45c5fd1f-e16f-4e07-b00e-5bf8d3ebf013\">\n",
              "      Upload widget is only available when the cell has been executed in the\n",
              "      current browser session. Please rerun this cell to enable.\n",
              "      </output>\n",
              "      <script>// Copyright 2017 Google LLC\n",
              "//\n",
              "// Licensed under the Apache License, Version 2.0 (the \"License\");\n",
              "// you may not use this file except in compliance with the License.\n",
              "// You may obtain a copy of the License at\n",
              "//\n",
              "//      http://www.apache.org/licenses/LICENSE-2.0\n",
              "//\n",
              "// Unless required by applicable law or agreed to in writing, software\n",
              "// distributed under the License is distributed on an \"AS IS\" BASIS,\n",
              "// WITHOUT WARRANTIES OR CONDITIONS OF ANY KIND, either express or implied.\n",
              "// See the License for the specific language governing permissions and\n",
              "// limitations under the License.\n",
              "\n",
              "/**\n",
              " * @fileoverview Helpers for google.colab Python module.\n",
              " */\n",
              "(function(scope) {\n",
              "function span(text, styleAttributes = {}) {\n",
              "  const element = document.createElement('span');\n",
              "  element.textContent = text;\n",
              "  for (const key of Object.keys(styleAttributes)) {\n",
              "    element.style[key] = styleAttributes[key];\n",
              "  }\n",
              "  return element;\n",
              "}\n",
              "\n",
              "// Max number of bytes which will be uploaded at a time.\n",
              "const MAX_PAYLOAD_SIZE = 100 * 1024;\n",
              "\n",
              "function _uploadFiles(inputId, outputId) {\n",
              "  const steps = uploadFilesStep(inputId, outputId);\n",
              "  const outputElement = document.getElementById(outputId);\n",
              "  // Cache steps on the outputElement to make it available for the next call\n",
              "  // to uploadFilesContinue from Python.\n",
              "  outputElement.steps = steps;\n",
              "\n",
              "  return _uploadFilesContinue(outputId);\n",
              "}\n",
              "\n",
              "// This is roughly an async generator (not supported in the browser yet),\n",
              "// where there are multiple asynchronous steps and the Python side is going\n",
              "// to poll for completion of each step.\n",
              "// This uses a Promise to block the python side on completion of each step,\n",
              "// then passes the result of the previous step as the input to the next step.\n",
              "function _uploadFilesContinue(outputId) {\n",
              "  const outputElement = document.getElementById(outputId);\n",
              "  const steps = outputElement.steps;\n",
              "\n",
              "  const next = steps.next(outputElement.lastPromiseValue);\n",
              "  return Promise.resolve(next.value.promise).then((value) => {\n",
              "    // Cache the last promise value to make it available to the next\n",
              "    // step of the generator.\n",
              "    outputElement.lastPromiseValue = value;\n",
              "    return next.value.response;\n",
              "  });\n",
              "}\n",
              "\n",
              "/**\n",
              " * Generator function which is called between each async step of the upload\n",
              " * process.\n",
              " * @param {string} inputId Element ID of the input file picker element.\n",
              " * @param {string} outputId Element ID of the output display.\n",
              " * @return {!Iterable<!Object>} Iterable of next steps.\n",
              " */\n",
              "function* uploadFilesStep(inputId, outputId) {\n",
              "  const inputElement = document.getElementById(inputId);\n",
              "  inputElement.disabled = false;\n",
              "\n",
              "  const outputElement = document.getElementById(outputId);\n",
              "  outputElement.innerHTML = '';\n",
              "\n",
              "  const pickedPromise = new Promise((resolve) => {\n",
              "    inputElement.addEventListener('change', (e) => {\n",
              "      resolve(e.target.files);\n",
              "    });\n",
              "  });\n",
              "\n",
              "  const cancel = document.createElement('button');\n",
              "  inputElement.parentElement.appendChild(cancel);\n",
              "  cancel.textContent = 'Cancel upload';\n",
              "  const cancelPromise = new Promise((resolve) => {\n",
              "    cancel.onclick = () => {\n",
              "      resolve(null);\n",
              "    };\n",
              "  });\n",
              "\n",
              "  // Wait for the user to pick the files.\n",
              "  const files = yield {\n",
              "    promise: Promise.race([pickedPromise, cancelPromise]),\n",
              "    response: {\n",
              "      action: 'starting',\n",
              "    }\n",
              "  };\n",
              "\n",
              "  cancel.remove();\n",
              "\n",
              "  // Disable the input element since further picks are not allowed.\n",
              "  inputElement.disabled = true;\n",
              "\n",
              "  if (!files) {\n",
              "    return {\n",
              "      response: {\n",
              "        action: 'complete',\n",
              "      }\n",
              "    };\n",
              "  }\n",
              "\n",
              "  for (const file of files) {\n",
              "    const li = document.createElement('li');\n",
              "    li.append(span(file.name, {fontWeight: 'bold'}));\n",
              "    li.append(span(\n",
              "        `(${file.type || 'n/a'}) - ${file.size} bytes, ` +\n",
              "        `last modified: ${\n",
              "            file.lastModifiedDate ? file.lastModifiedDate.toLocaleDateString() :\n",
              "                                    'n/a'} - `));\n",
              "    const percent = span('0% done');\n",
              "    li.appendChild(percent);\n",
              "\n",
              "    outputElement.appendChild(li);\n",
              "\n",
              "    const fileDataPromise = new Promise((resolve) => {\n",
              "      const reader = new FileReader();\n",
              "      reader.onload = (e) => {\n",
              "        resolve(e.target.result);\n",
              "      };\n",
              "      reader.readAsArrayBuffer(file);\n",
              "    });\n",
              "    // Wait for the data to be ready.\n",
              "    let fileData = yield {\n",
              "      promise: fileDataPromise,\n",
              "      response: {\n",
              "        action: 'continue',\n",
              "      }\n",
              "    };\n",
              "\n",
              "    // Use a chunked sending to avoid message size limits. See b/62115660.\n",
              "    let position = 0;\n",
              "    do {\n",
              "      const length = Math.min(fileData.byteLength - position, MAX_PAYLOAD_SIZE);\n",
              "      const chunk = new Uint8Array(fileData, position, length);\n",
              "      position += length;\n",
              "\n",
              "      const base64 = btoa(String.fromCharCode.apply(null, chunk));\n",
              "      yield {\n",
              "        response: {\n",
              "          action: 'append',\n",
              "          file: file.name,\n",
              "          data: base64,\n",
              "        },\n",
              "      };\n",
              "\n",
              "      let percentDone = fileData.byteLength === 0 ?\n",
              "          100 :\n",
              "          Math.round((position / fileData.byteLength) * 100);\n",
              "      percent.textContent = `${percentDone}% done`;\n",
              "\n",
              "    } while (position < fileData.byteLength);\n",
              "  }\n",
              "\n",
              "  // All done.\n",
              "  yield {\n",
              "    response: {\n",
              "      action: 'complete',\n",
              "    }\n",
              "  };\n",
              "}\n",
              "\n",
              "scope.google = scope.google || {};\n",
              "scope.google.colab = scope.google.colab || {};\n",
              "scope.google.colab._files = {\n",
              "  _uploadFiles,\n",
              "  _uploadFilesContinue,\n",
              "};\n",
              "})(self);\n",
              "</script> "
            ]
          },
          "metadata": {}
        },
        {
          "output_type": "stream",
          "name": "stdout",
          "text": [
            "None\n"
          ]
        }
      ],
      "source": [
        "from google.colab import files\n",
        "uploaded_files_h5 = files.upload()\n",
        "uploaded_h5_path = None\n",
        "for key in uploaded_files_h5:\n",
        "  uploaded_h5_path = key\n",
        "  break\n",
        "print(uploaded_h5_path)"
      ]
    },
    {
      "cell_type": "code",
      "execution_count": 28,
      "metadata": {
        "id": "-rVijdv2zYVN"
      },
      "outputs": [],
      "source": [
        "from tensorflow.keras.models import load_model, save_model\n",
        "\n",
        "if uploaded_h5_path is None: uploaded_h5_path = \"/content/next_commands_end.keras\"\n",
        "\n",
        "# Load the model and tokenizer\n",
        "model = load_model(uploaded_h5_path)\n",
        "model.save('next_words.keras')\n",
        "tokenizer = pickle.load(open('token.pkl', 'rb'))"
      ]
    },
    {
      "cell_type": "code",
      "execution_count": 29,
      "metadata": {
        "id": "U0uwgQgfrP-8"
      },
      "outputs": [],
      "source": [
        "from tensorflow.keras.preprocessing.text import tokenizer_from_json"
      ]
    },
    {
      "cell_type": "code",
      "execution_count": 30,
      "metadata": {
        "id": "PQEjdC0kBCVO"
      },
      "outputs": [],
      "source": [
        "# Сохранение токенизатора в формате JSON\n",
        "import json\n",
        "\n",
        "tokenizer_json = tokenizer.to_json()\n",
        "with open('tokenizer.json', 'w') as f:\n",
        "    f.write(tokenizer_json)\n",
        "\n",
        "\n",
        "with open('tokenizer.json') as f:\n",
        "    tokenizer_test = tokenizer_from_json(f.read())"
      ]
    },
    {
      "cell_type": "code",
      "execution_count": 31,
      "metadata": {
        "colab": {
          "base_uri": "https://localhost:8080/"
        },
        "id": "tBadrpy9Koj-",
        "outputId": "2accc014-3c7e-4d60-9402-49ca6134967b"
      },
      "outputs": [
        {
          "output_type": "stream",
          "name": "stdout",
          "text": [
            "Predicted word = simplepolyline\n",
            "Result text = OpenDocument LAYOUT_CONTROL CopyWithBasePoint PasteBlock simplepolyline\n"
          ]
        }
      ],
      "source": [
        "expected_text = \"OpenDocument LAYOUT_CONTROL CopyWithBasePoint PasteBlock SimplePolyLine\"\n",
        "seed_text = \"OpenDocument LAYOUT_CONTROL CopyWithBasePoint PasteBlock\"\n",
        "next_words = 1\n",
        "\n",
        "for _ in range(next_words):\n",
        "    token_list = tokenizer.texts_to_sequences([seed_text])[0]\n",
        "    token_list = pad_sequences([token_list], maxlen=max_sequence_len-1, padding='pre')\n",
        "    predicted_model = model.predict(token_list, verbose=0)\n",
        "    predicted_class = np.argmax(predicted_model, axis=-1)\n",
        "    output_word = \"\"\n",
        "    for word, index in tokenizer.word_index.items():\n",
        "        if index == predicted_class:\n",
        "            output_word = word\n",
        "            break\n",
        "    print(\"Predicted word =\", output_word)\n",
        "    seed_text += \" \" + output_word\n",
        "print(\"Result text =\", seed_text)"
      ]
    }
  ],
  "metadata": {
    "accelerator": "GPU",
    "colab": {
      "gpuType": "T4",
      "provenance": []
    },
    "kernelspec": {
      "display_name": "Python 3",
      "name": "python3"
    },
    "language_info": {
      "codemirror_mode": {
        "name": "ipython",
        "version": 3
      },
      "file_extension": ".py",
      "mimetype": "text/x-python",
      "name": "python",
      "nbconvert_exporter": "python",
      "pygments_lexer": "ipython3",
      "version": "3.11.0"
    },
    "widgets": {
      "application/vnd.jupyter.widget-state+json": {
        "8b736882460f44dfa3cf3115f3ce333a": {
          "model_module": "@jupyter-widgets/controls",
          "model_name": "HBoxModel",
          "model_module_version": "1.5.0",
          "state": {
            "_dom_classes": [],
            "_model_module": "@jupyter-widgets/controls",
            "_model_module_version": "1.5.0",
            "_model_name": "HBoxModel",
            "_view_count": null,
            "_view_module": "@jupyter-widgets/controls",
            "_view_module_version": "1.5.0",
            "_view_name": "HBoxView",
            "box_style": "",
            "children": [
              "IPY_MODEL_c346c0a23270419186d4170097d9e03e",
              "IPY_MODEL_7f91b01611874cb1a1555c2539447e8d",
              "IPY_MODEL_8ddb830af76a4bd7bc76e5429512c806"
            ],
            "layout": "IPY_MODEL_d19d4efcac444127bbe4cb7a867cff6b"
          }
        },
        "c346c0a23270419186d4170097d9e03e": {
          "model_module": "@jupyter-widgets/controls",
          "model_name": "HTMLModel",
          "model_module_version": "1.5.0",
          "state": {
            "_dom_classes": [],
            "_model_module": "@jupyter-widgets/controls",
            "_model_module_version": "1.5.0",
            "_model_name": "HTMLModel",
            "_view_count": null,
            "_view_module": "@jupyter-widgets/controls",
            "_view_module_version": "1.5.0",
            "_view_name": "HTMLView",
            "description": "",
            "description_tooltip": null,
            "layout": "IPY_MODEL_6136465eeb4e43ac860556677fc7b7c5",
            "placeholder": "​",
            "style": "IPY_MODEL_43ee05076e6f4289ab9b9d2c887988a9",
            "value": "100%"
          }
        },
        "7f91b01611874cb1a1555c2539447e8d": {
          "model_module": "@jupyter-widgets/controls",
          "model_name": "FloatProgressModel",
          "model_module_version": "1.5.0",
          "state": {
            "_dom_classes": [],
            "_model_module": "@jupyter-widgets/controls",
            "_model_module_version": "1.5.0",
            "_model_name": "FloatProgressModel",
            "_view_count": null,
            "_view_module": "@jupyter-widgets/controls",
            "_view_module_version": "1.5.0",
            "_view_name": "ProgressView",
            "bar_style": "success",
            "description": "",
            "description_tooltip": null,
            "layout": "IPY_MODEL_92b0784655a249b9aa4e7bc87fbf9718",
            "max": 370,
            "min": 0,
            "orientation": "horizontal",
            "style": "IPY_MODEL_918f1fef2bf34125851c717710e8546c",
            "value": 370
          }
        },
        "8ddb830af76a4bd7bc76e5429512c806": {
          "model_module": "@jupyter-widgets/controls",
          "model_name": "HTMLModel",
          "model_module_version": "1.5.0",
          "state": {
            "_dom_classes": [],
            "_model_module": "@jupyter-widgets/controls",
            "_model_module_version": "1.5.0",
            "_model_name": "HTMLModel",
            "_view_count": null,
            "_view_module": "@jupyter-widgets/controls",
            "_view_module_version": "1.5.0",
            "_view_name": "HTMLView",
            "description": "",
            "description_tooltip": null,
            "layout": "IPY_MODEL_9602ef93e2314feea88a5d3a4e4823d4",
            "placeholder": "​",
            "style": "IPY_MODEL_56ef4fc215ae4e02a3cda1994ff648b0",
            "value": " 370/370 [00:00&lt;00:00, 7316.28it/s]"
          }
        },
        "d19d4efcac444127bbe4cb7a867cff6b": {
          "model_module": "@jupyter-widgets/base",
          "model_name": "LayoutModel",
          "model_module_version": "1.2.0",
          "state": {
            "_model_module": "@jupyter-widgets/base",
            "_model_module_version": "1.2.0",
            "_model_name": "LayoutModel",
            "_view_count": null,
            "_view_module": "@jupyter-widgets/base",
            "_view_module_version": "1.2.0",
            "_view_name": "LayoutView",
            "align_content": null,
            "align_items": null,
            "align_self": null,
            "border": null,
            "bottom": null,
            "display": null,
            "flex": null,
            "flex_flow": null,
            "grid_area": null,
            "grid_auto_columns": null,
            "grid_auto_flow": null,
            "grid_auto_rows": null,
            "grid_column": null,
            "grid_gap": null,
            "grid_row": null,
            "grid_template_areas": null,
            "grid_template_columns": null,
            "grid_template_rows": null,
            "height": null,
            "justify_content": null,
            "justify_items": null,
            "left": null,
            "margin": null,
            "max_height": null,
            "max_width": null,
            "min_height": null,
            "min_width": null,
            "object_fit": null,
            "object_position": null,
            "order": null,
            "overflow": null,
            "overflow_x": null,
            "overflow_y": null,
            "padding": null,
            "right": null,
            "top": null,
            "visibility": null,
            "width": null
          }
        },
        "6136465eeb4e43ac860556677fc7b7c5": {
          "model_module": "@jupyter-widgets/base",
          "model_name": "LayoutModel",
          "model_module_version": "1.2.0",
          "state": {
            "_model_module": "@jupyter-widgets/base",
            "_model_module_version": "1.2.0",
            "_model_name": "LayoutModel",
            "_view_count": null,
            "_view_module": "@jupyter-widgets/base",
            "_view_module_version": "1.2.0",
            "_view_name": "LayoutView",
            "align_content": null,
            "align_items": null,
            "align_self": null,
            "border": null,
            "bottom": null,
            "display": null,
            "flex": null,
            "flex_flow": null,
            "grid_area": null,
            "grid_auto_columns": null,
            "grid_auto_flow": null,
            "grid_auto_rows": null,
            "grid_column": null,
            "grid_gap": null,
            "grid_row": null,
            "grid_template_areas": null,
            "grid_template_columns": null,
            "grid_template_rows": null,
            "height": null,
            "justify_content": null,
            "justify_items": null,
            "left": null,
            "margin": null,
            "max_height": null,
            "max_width": null,
            "min_height": null,
            "min_width": null,
            "object_fit": null,
            "object_position": null,
            "order": null,
            "overflow": null,
            "overflow_x": null,
            "overflow_y": null,
            "padding": null,
            "right": null,
            "top": null,
            "visibility": null,
            "width": null
          }
        },
        "43ee05076e6f4289ab9b9d2c887988a9": {
          "model_module": "@jupyter-widgets/controls",
          "model_name": "DescriptionStyleModel",
          "model_module_version": "1.5.0",
          "state": {
            "_model_module": "@jupyter-widgets/controls",
            "_model_module_version": "1.5.0",
            "_model_name": "DescriptionStyleModel",
            "_view_count": null,
            "_view_module": "@jupyter-widgets/base",
            "_view_module_version": "1.2.0",
            "_view_name": "StyleView",
            "description_width": ""
          }
        },
        "92b0784655a249b9aa4e7bc87fbf9718": {
          "model_module": "@jupyter-widgets/base",
          "model_name": "LayoutModel",
          "model_module_version": "1.2.0",
          "state": {
            "_model_module": "@jupyter-widgets/base",
            "_model_module_version": "1.2.0",
            "_model_name": "LayoutModel",
            "_view_count": null,
            "_view_module": "@jupyter-widgets/base",
            "_view_module_version": "1.2.0",
            "_view_name": "LayoutView",
            "align_content": null,
            "align_items": null,
            "align_self": null,
            "border": null,
            "bottom": null,
            "display": null,
            "flex": null,
            "flex_flow": null,
            "grid_area": null,
            "grid_auto_columns": null,
            "grid_auto_flow": null,
            "grid_auto_rows": null,
            "grid_column": null,
            "grid_gap": null,
            "grid_row": null,
            "grid_template_areas": null,
            "grid_template_columns": null,
            "grid_template_rows": null,
            "height": null,
            "justify_content": null,
            "justify_items": null,
            "left": null,
            "margin": null,
            "max_height": null,
            "max_width": null,
            "min_height": null,
            "min_width": null,
            "object_fit": null,
            "object_position": null,
            "order": null,
            "overflow": null,
            "overflow_x": null,
            "overflow_y": null,
            "padding": null,
            "right": null,
            "top": null,
            "visibility": null,
            "width": null
          }
        },
        "918f1fef2bf34125851c717710e8546c": {
          "model_module": "@jupyter-widgets/controls",
          "model_name": "ProgressStyleModel",
          "model_module_version": "1.5.0",
          "state": {
            "_model_module": "@jupyter-widgets/controls",
            "_model_module_version": "1.5.0",
            "_model_name": "ProgressStyleModel",
            "_view_count": null,
            "_view_module": "@jupyter-widgets/base",
            "_view_module_version": "1.2.0",
            "_view_name": "StyleView",
            "bar_color": null,
            "description_width": ""
          }
        },
        "9602ef93e2314feea88a5d3a4e4823d4": {
          "model_module": "@jupyter-widgets/base",
          "model_name": "LayoutModel",
          "model_module_version": "1.2.0",
          "state": {
            "_model_module": "@jupyter-widgets/base",
            "_model_module_version": "1.2.0",
            "_model_name": "LayoutModel",
            "_view_count": null,
            "_view_module": "@jupyter-widgets/base",
            "_view_module_version": "1.2.0",
            "_view_name": "LayoutView",
            "align_content": null,
            "align_items": null,
            "align_self": null,
            "border": null,
            "bottom": null,
            "display": null,
            "flex": null,
            "flex_flow": null,
            "grid_area": null,
            "grid_auto_columns": null,
            "grid_auto_flow": null,
            "grid_auto_rows": null,
            "grid_column": null,
            "grid_gap": null,
            "grid_row": null,
            "grid_template_areas": null,
            "grid_template_columns": null,
            "grid_template_rows": null,
            "height": null,
            "justify_content": null,
            "justify_items": null,
            "left": null,
            "margin": null,
            "max_height": null,
            "max_width": null,
            "min_height": null,
            "min_width": null,
            "object_fit": null,
            "object_position": null,
            "order": null,
            "overflow": null,
            "overflow_x": null,
            "overflow_y": null,
            "padding": null,
            "right": null,
            "top": null,
            "visibility": null,
            "width": null
          }
        },
        "56ef4fc215ae4e02a3cda1994ff648b0": {
          "model_module": "@jupyter-widgets/controls",
          "model_name": "DescriptionStyleModel",
          "model_module_version": "1.5.0",
          "state": {
            "_model_module": "@jupyter-widgets/controls",
            "_model_module_version": "1.5.0",
            "_model_name": "DescriptionStyleModel",
            "_view_count": null,
            "_view_module": "@jupyter-widgets/base",
            "_view_module_version": "1.2.0",
            "_view_name": "StyleView",
            "description_width": ""
          }
        },
        "4080338b4c104feb9d458776fb2dd3a2": {
          "model_module": "@jupyter-widgets/controls",
          "model_name": "HBoxModel",
          "model_module_version": "1.5.0",
          "state": {
            "_dom_classes": [],
            "_model_module": "@jupyter-widgets/controls",
            "_model_module_version": "1.5.0",
            "_model_name": "HBoxModel",
            "_view_count": null,
            "_view_module": "@jupyter-widgets/controls",
            "_view_module_version": "1.5.0",
            "_view_name": "HBoxView",
            "box_style": "",
            "children": [
              "IPY_MODEL_a8ad1e0e30594df3b9949afa6a71cc7f",
              "IPY_MODEL_12446b8f2cd54f17a6d4db810f3b6763",
              "IPY_MODEL_0762137991094e65ab42c899502acb72"
            ],
            "layout": "IPY_MODEL_972564eae19c4baf8f8a1406d4dc2f50"
          }
        },
        "a8ad1e0e30594df3b9949afa6a71cc7f": {
          "model_module": "@jupyter-widgets/controls",
          "model_name": "HTMLModel",
          "model_module_version": "1.5.0",
          "state": {
            "_dom_classes": [],
            "_model_module": "@jupyter-widgets/controls",
            "_model_module_version": "1.5.0",
            "_model_name": "HTMLModel",
            "_view_count": null,
            "_view_module": "@jupyter-widgets/controls",
            "_view_module_version": "1.5.0",
            "_view_name": "HTMLView",
            "description": "",
            "description_tooltip": null,
            "layout": "IPY_MODEL_e441c9b77cc344e5924e96aecdb5bcf9",
            "placeholder": "​",
            "style": "IPY_MODEL_a939d107cd9a406db1b15ff380b75690",
            "value": "100%"
          }
        },
        "12446b8f2cd54f17a6d4db810f3b6763": {
          "model_module": "@jupyter-widgets/controls",
          "model_name": "FloatProgressModel",
          "model_module_version": "1.5.0",
          "state": {
            "_dom_classes": [],
            "_model_module": "@jupyter-widgets/controls",
            "_model_module_version": "1.5.0",
            "_model_name": "FloatProgressModel",
            "_view_count": null,
            "_view_module": "@jupyter-widgets/controls",
            "_view_module_version": "1.5.0",
            "_view_name": "ProgressView",
            "bar_style": "success",
            "description": "",
            "description_tooltip": null,
            "layout": "IPY_MODEL_21fcc8795e5541e489ec1edc8fd06d2e",
            "max": 170,
            "min": 0,
            "orientation": "horizontal",
            "style": "IPY_MODEL_46f2e1beba16415b9d19220b552556c1",
            "value": 170
          }
        },
        "0762137991094e65ab42c899502acb72": {
          "model_module": "@jupyter-widgets/controls",
          "model_name": "HTMLModel",
          "model_module_version": "1.5.0",
          "state": {
            "_dom_classes": [],
            "_model_module": "@jupyter-widgets/controls",
            "_model_module_version": "1.5.0",
            "_model_name": "HTMLModel",
            "_view_count": null,
            "_view_module": "@jupyter-widgets/controls",
            "_view_module_version": "1.5.0",
            "_view_name": "HTMLView",
            "description": "",
            "description_tooltip": null,
            "layout": "IPY_MODEL_69788cd3ffa8447f8c89dfceea375f18",
            "placeholder": "​",
            "style": "IPY_MODEL_47bb6261ff134185bbdb9c7d21bd6503",
            "value": " 170/170 [00:00&lt;00:00, 2530.58it/s]"
          }
        },
        "972564eae19c4baf8f8a1406d4dc2f50": {
          "model_module": "@jupyter-widgets/base",
          "model_name": "LayoutModel",
          "model_module_version": "1.2.0",
          "state": {
            "_model_module": "@jupyter-widgets/base",
            "_model_module_version": "1.2.0",
            "_model_name": "LayoutModel",
            "_view_count": null,
            "_view_module": "@jupyter-widgets/base",
            "_view_module_version": "1.2.0",
            "_view_name": "LayoutView",
            "align_content": null,
            "align_items": null,
            "align_self": null,
            "border": null,
            "bottom": null,
            "display": null,
            "flex": null,
            "flex_flow": null,
            "grid_area": null,
            "grid_auto_columns": null,
            "grid_auto_flow": null,
            "grid_auto_rows": null,
            "grid_column": null,
            "grid_gap": null,
            "grid_row": null,
            "grid_template_areas": null,
            "grid_template_columns": null,
            "grid_template_rows": null,
            "height": null,
            "justify_content": null,
            "justify_items": null,
            "left": null,
            "margin": null,
            "max_height": null,
            "max_width": null,
            "min_height": null,
            "min_width": null,
            "object_fit": null,
            "object_position": null,
            "order": null,
            "overflow": null,
            "overflow_x": null,
            "overflow_y": null,
            "padding": null,
            "right": null,
            "top": null,
            "visibility": null,
            "width": null
          }
        },
        "e441c9b77cc344e5924e96aecdb5bcf9": {
          "model_module": "@jupyter-widgets/base",
          "model_name": "LayoutModel",
          "model_module_version": "1.2.0",
          "state": {
            "_model_module": "@jupyter-widgets/base",
            "_model_module_version": "1.2.0",
            "_model_name": "LayoutModel",
            "_view_count": null,
            "_view_module": "@jupyter-widgets/base",
            "_view_module_version": "1.2.0",
            "_view_name": "LayoutView",
            "align_content": null,
            "align_items": null,
            "align_self": null,
            "border": null,
            "bottom": null,
            "display": null,
            "flex": null,
            "flex_flow": null,
            "grid_area": null,
            "grid_auto_columns": null,
            "grid_auto_flow": null,
            "grid_auto_rows": null,
            "grid_column": null,
            "grid_gap": null,
            "grid_row": null,
            "grid_template_areas": null,
            "grid_template_columns": null,
            "grid_template_rows": null,
            "height": null,
            "justify_content": null,
            "justify_items": null,
            "left": null,
            "margin": null,
            "max_height": null,
            "max_width": null,
            "min_height": null,
            "min_width": null,
            "object_fit": null,
            "object_position": null,
            "order": null,
            "overflow": null,
            "overflow_x": null,
            "overflow_y": null,
            "padding": null,
            "right": null,
            "top": null,
            "visibility": null,
            "width": null
          }
        },
        "a939d107cd9a406db1b15ff380b75690": {
          "model_module": "@jupyter-widgets/controls",
          "model_name": "DescriptionStyleModel",
          "model_module_version": "1.5.0",
          "state": {
            "_model_module": "@jupyter-widgets/controls",
            "_model_module_version": "1.5.0",
            "_model_name": "DescriptionStyleModel",
            "_view_count": null,
            "_view_module": "@jupyter-widgets/base",
            "_view_module_version": "1.2.0",
            "_view_name": "StyleView",
            "description_width": ""
          }
        },
        "21fcc8795e5541e489ec1edc8fd06d2e": {
          "model_module": "@jupyter-widgets/base",
          "model_name": "LayoutModel",
          "model_module_version": "1.2.0",
          "state": {
            "_model_module": "@jupyter-widgets/base",
            "_model_module_version": "1.2.0",
            "_model_name": "LayoutModel",
            "_view_count": null,
            "_view_module": "@jupyter-widgets/base",
            "_view_module_version": "1.2.0",
            "_view_name": "LayoutView",
            "align_content": null,
            "align_items": null,
            "align_self": null,
            "border": null,
            "bottom": null,
            "display": null,
            "flex": null,
            "flex_flow": null,
            "grid_area": null,
            "grid_auto_columns": null,
            "grid_auto_flow": null,
            "grid_auto_rows": null,
            "grid_column": null,
            "grid_gap": null,
            "grid_row": null,
            "grid_template_areas": null,
            "grid_template_columns": null,
            "grid_template_rows": null,
            "height": null,
            "justify_content": null,
            "justify_items": null,
            "left": null,
            "margin": null,
            "max_height": null,
            "max_width": null,
            "min_height": null,
            "min_width": null,
            "object_fit": null,
            "object_position": null,
            "order": null,
            "overflow": null,
            "overflow_x": null,
            "overflow_y": null,
            "padding": null,
            "right": null,
            "top": null,
            "visibility": null,
            "width": null
          }
        },
        "46f2e1beba16415b9d19220b552556c1": {
          "model_module": "@jupyter-widgets/controls",
          "model_name": "ProgressStyleModel",
          "model_module_version": "1.5.0",
          "state": {
            "_model_module": "@jupyter-widgets/controls",
            "_model_module_version": "1.5.0",
            "_model_name": "ProgressStyleModel",
            "_view_count": null,
            "_view_module": "@jupyter-widgets/base",
            "_view_module_version": "1.2.0",
            "_view_name": "StyleView",
            "bar_color": null,
            "description_width": ""
          }
        },
        "69788cd3ffa8447f8c89dfceea375f18": {
          "model_module": "@jupyter-widgets/base",
          "model_name": "LayoutModel",
          "model_module_version": "1.2.0",
          "state": {
            "_model_module": "@jupyter-widgets/base",
            "_model_module_version": "1.2.0",
            "_model_name": "LayoutModel",
            "_view_count": null,
            "_view_module": "@jupyter-widgets/base",
            "_view_module_version": "1.2.0",
            "_view_name": "LayoutView",
            "align_content": null,
            "align_items": null,
            "align_self": null,
            "border": null,
            "bottom": null,
            "display": null,
            "flex": null,
            "flex_flow": null,
            "grid_area": null,
            "grid_auto_columns": null,
            "grid_auto_flow": null,
            "grid_auto_rows": null,
            "grid_column": null,
            "grid_gap": null,
            "grid_row": null,
            "grid_template_areas": null,
            "grid_template_columns": null,
            "grid_template_rows": null,
            "height": null,
            "justify_content": null,
            "justify_items": null,
            "left": null,
            "margin": null,
            "max_height": null,
            "max_width": null,
            "min_height": null,
            "min_width": null,
            "object_fit": null,
            "object_position": null,
            "order": null,
            "overflow": null,
            "overflow_x": null,
            "overflow_y": null,
            "padding": null,
            "right": null,
            "top": null,
            "visibility": null,
            "width": null
          }
        },
        "47bb6261ff134185bbdb9c7d21bd6503": {
          "model_module": "@jupyter-widgets/controls",
          "model_name": "DescriptionStyleModel",
          "model_module_version": "1.5.0",
          "state": {
            "_model_module": "@jupyter-widgets/controls",
            "_model_module_version": "1.5.0",
            "_model_name": "DescriptionStyleModel",
            "_view_count": null,
            "_view_module": "@jupyter-widgets/base",
            "_view_module_version": "1.2.0",
            "_view_name": "StyleView",
            "description_width": ""
          }
        }
      }
    }
  },
  "nbformat": 4,
  "nbformat_minor": 0
}